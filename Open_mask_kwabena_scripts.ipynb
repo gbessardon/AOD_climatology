{
  "nbformat": 4,
  "nbformat_minor": 0,
  "metadata": {
    "colab": {
      "provenance": [],
      "collapsed_sections": [
        "2MGpXTj0FgZR",
        "s22oaaUW8Ysi",
        "qhcW4Dx6O8kw",
        "WHymlCDYQ0tE"
      ],
      "include_colab_link": true
    },
    "kernelspec": {
      "display_name": "Python 3",
      "name": "python3"
    }
  },
  "cells": [
    {
      "cell_type": "markdown",
      "metadata": {
        "id": "view-in-github",
        "colab_type": "text"
      },
      "source": [
        "<a href=\"https://colab.research.google.com/github/gbessardon/AOD_climatology/blob/main/Open_mask_kwabena_scripts.ipynb\" target=\"_parent\"><img src=\"https://colab.research.google.com/assets/colab-badge.svg\" alt=\"Open In Colab\"/></a>"
      ]
    },
    {
      "cell_type": "markdown",
      "metadata": {
        "id": "FZ9f1tcSV9hO"
      },
      "source": [
        "# Working Environment set-up\n",
        "Just run everything the good point with google collab we should have the same configuration"
      ]
    },
    {
      "cell_type": "markdown",
      "metadata": {
        "id": "fPmGU1O2IjE3"
      },
      "source": [
        "Mount google drive\n",
        "It will ask you to click on a link and copy paste an access code to your google drive\n"
      ]
    },
    {
      "cell_type": "code",
      "metadata": {
        "id": "HSnQbswJUgxq",
        "colab": {
          "base_uri": "https://localhost:8080/"
        },
        "outputId": "3204260b-c984-41bd-eee0-6b94eff12439"
      },
      "source": [
        "from google.colab import drive\n",
        "drive.mount('/content/gdrive/')"
      ],
      "execution_count": null,
      "outputs": [
        {
          "output_type": "stream",
          "text": [
            "Drive already mounted at /content/gdrive/; to attempt to forcibly remount, call drive.mount(\"/content/gdrive/\", force_remount=True).\n"
          ],
          "name": "stdout"
        }
      ]
    },
    {
      "cell_type": "markdown",
      "metadata": {
        "id": "iA2INUy-7Hr5"
      },
      "source": [
        "Install basemap"
      ]
    },
    {
      "cell_type": "code",
      "metadata": {
        "id": "lrcbX9y04HyJ",
        "colab": {
          "base_uri": "https://localhost:8080/"
        },
        "outputId": "4d7e1b17-0e48-49f5-b7c6-87d8b1b2e12b"
      },
      "source": [
        "!apt-get install libgeos-3.5.0\n",
        "!apt-get install libgeos-dev\n",
        "!pip3 install https://github.com/matplotlib/basemap/archive/master.zip"
      ],
      "execution_count": null,
      "outputs": [
        {
          "output_type": "stream",
          "text": [
            "Reading package lists... Done\n",
            "Building dependency tree       \n",
            "Reading state information... Done\n",
            "E: Unable to locate package libgeos-3.5.0\n",
            "E: Couldn't find any package by glob 'libgeos-3.5.0'\n",
            "E: Couldn't find any package by regex 'libgeos-3.5.0'\n",
            "Reading package lists... Done\n",
            "Building dependency tree       \n",
            "Reading state information... Done\n",
            "libgeos-dev is already the newest version (3.6.2-1build2).\n",
            "The following packages were automatically installed and are no longer required:\n",
            "  default-libmysqlclient-dev libarmadillo-dev libarpack2-dev libdap-dev\n",
            "  libdapserver7v5 libepsilon-dev libfreexl-dev libfyba-dev libgeotiff-dev\n",
            "  libgif-dev libjson-c-dev libkml-dev libkmlconvenience1 libkmlregionator1\n",
            "  libkmlxsd1 libminizip-dev libmysqlclient-dev libnetcdf-dev libogdi3.2-dev\n",
            "  libopenjp2-7-dev libpoppler-dev libpoppler-private-dev libpq-dev libproj-dev\n",
            "  libqhull-dev libqhull-r7 libspatialite-dev libsqlite3-dev libsuperlu-dev\n",
            "  liburiparser-dev libwebp-dev libxerces-c-dev unixodbc-dev\n",
            "Use 'apt autoremove' to remove them.\n",
            "0 upgraded, 0 newly installed, 0 to remove and 29 not upgraded.\n",
            "Collecting https://github.com/matplotlib/basemap/archive/master.zip\n",
            "  Using cached https://github.com/matplotlib/basemap/archive/master.zip\n",
            "Requirement already satisfied (use --upgrade to upgrade): basemap==1.2.2+dev from https://github.com/matplotlib/basemap/archive/master.zip in /usr/local/lib/python3.7/dist-packages\n",
            "Requirement already satisfied: matplotlib!=3.0.1,>=1.0.0 in /usr/local/lib/python3.7/dist-packages (from basemap==1.2.2+dev) (3.2.2)\n",
            "Requirement already satisfied: numpy>=1.2.1 in /usr/local/lib/python3.7/dist-packages (from basemap==1.2.2+dev) (1.19.5)\n",
            "Requirement already satisfied: pyproj>=1.9.3 in /usr/local/lib/python3.7/dist-packages (from basemap==1.2.2+dev) (3.0.1)\n",
            "Requirement already satisfied: pyshp>=1.2.0 in /usr/local/lib/python3.7/dist-packages (from basemap==1.2.2+dev) (2.1.3)\n",
            "Requirement already satisfied: six in /usr/local/lib/python3.7/dist-packages (from basemap==1.2.2+dev) (1.15.0)\n",
            "Requirement already satisfied: kiwisolver>=1.0.1 in /usr/local/lib/python3.7/dist-packages (from matplotlib!=3.0.1,>=1.0.0->basemap==1.2.2+dev) (1.3.1)\n",
            "Requirement already satisfied: pyparsing!=2.0.4,!=2.1.2,!=2.1.6,>=2.0.1 in /usr/local/lib/python3.7/dist-packages (from matplotlib!=3.0.1,>=1.0.0->basemap==1.2.2+dev) (2.4.7)\n",
            "Requirement already satisfied: cycler>=0.10 in /usr/local/lib/python3.7/dist-packages (from matplotlib!=3.0.1,>=1.0.0->basemap==1.2.2+dev) (0.10.0)\n",
            "Requirement already satisfied: python-dateutil>=2.1 in /usr/local/lib/python3.7/dist-packages (from matplotlib!=3.0.1,>=1.0.0->basemap==1.2.2+dev) (2.8.1)\n",
            "Requirement already satisfied: certifi in /usr/local/lib/python3.7/dist-packages (from pyproj>=1.9.3->basemap==1.2.2+dev) (2020.12.5)\n",
            "Building wheels for collected packages: basemap\n",
            "  Building wheel for basemap (setup.py) ... \u001b[?25l\u001b[?25hdone\n",
            "  Created wheel for basemap: filename=basemap-1.2.2+dev-cp37-cp37m-linux_x86_64.whl size=121759572 sha256=0807d6f6acc200b81a40c91b98b925159afb08cefab31491a93b380a4650167c\n",
            "  Stored in directory: /tmp/pip-ephem-wheel-cache-rmvnx1qg/wheels/98/4a/fc/ce719b75d97e646645c225f3332b1b217536100314922e9572\n",
            "Successfully built basemap\n"
          ],
          "name": "stdout"
        }
      ]
    },
    {
      "cell_type": "markdown",
      "metadata": {
        "id": "pB7xR5no7Tdv"
      },
      "source": [
        "Install pyproj, pyresample, netCDF4"
      ]
    },
    {
      "cell_type": "code",
      "metadata": {
        "id": "8rr8pNIK2vJF",
        "colab": {
          "base_uri": "https://localhost:8080/"
        },
        "outputId": "f9cb75d0-a827-45e0-b7f0-8c0d6893e2f8"
      },
      "source": [
        "!pip3 install pyproj\n",
        "!pip3 install pyresample\n",
        "!pip3 install netCDF4"
      ],
      "execution_count": null,
      "outputs": [
        {
          "output_type": "stream",
          "text": [
            "Requirement already satisfied: pyproj in /usr/local/lib/python3.7/dist-packages (3.0.1)\n",
            "Requirement already satisfied: certifi in /usr/local/lib/python3.7/dist-packages (from pyproj) (2020.12.5)\n",
            "Requirement already satisfied: pyresample in /usr/local/lib/python3.7/dist-packages (1.17.0)\n",
            "Requirement already satisfied: pyproj>=1.9.5.1 in /usr/local/lib/python3.7/dist-packages (from pyresample) (3.0.1)\n",
            "Requirement already satisfied: numpy>=1.10.0 in /usr/local/lib/python3.7/dist-packages (from pyresample) (1.19.5)\n",
            "Requirement already satisfied: pyyaml in /usr/local/lib/python3.7/dist-packages (from pyresample) (3.13)\n",
            "Requirement already satisfied: configobj in /usr/local/lib/python3.7/dist-packages (from pyresample) (5.0.6)\n",
            "Requirement already satisfied: pykdtree>=1.3.1 in /usr/local/lib/python3.7/dist-packages (from pyresample) (1.3.4)\n",
            "Requirement already satisfied: setuptools>=3.2 in /usr/local/lib/python3.7/dist-packages (from pyresample) (54.0.0)\n",
            "Requirement already satisfied: certifi in /usr/local/lib/python3.7/dist-packages (from pyproj>=1.9.5.1->pyresample) (2020.12.5)\n",
            "Requirement already satisfied: six in /usr/local/lib/python3.7/dist-packages (from configobj->pyresample) (1.15.0)\n",
            "Requirement already satisfied: netCDF4 in /usr/local/lib/python3.7/dist-packages (1.5.6)\n",
            "Requirement already satisfied: cftime in /usr/local/lib/python3.7/dist-packages (from netCDF4) (1.4.1)\n",
            "Requirement already satisfied: numpy>=1.9 in /usr/local/lib/python3.7/dist-packages (from netCDF4) (1.19.5)\n"
          ],
          "name": "stdout"
        }
      ]
    },
    {
      "cell_type": "markdown",
      "metadata": {
        "id": "F9UFIWeI7ZJJ"
      },
      "source": [
        "Install pyhdf"
      ]
    },
    {
      "cell_type": "code",
      "metadata": {
        "id": "I-hc9U4s6zgV",
        "colab": {
          "base_uri": "https://localhost:8080/"
        },
        "outputId": "4e84b356-a8b1-46f9-bc5f-7b5e924c2053"
      },
      "source": [
        "!apt-get install libhdf4-dev\n",
        "!pip3 install pyhdf"
      ],
      "execution_count": null,
      "outputs": [
        {
          "output_type": "stream",
          "text": [
            "Reading package lists... Done\n",
            "Building dependency tree       \n",
            "Reading state information... Done\n",
            "libhdf4-dev is already the newest version (4.2.13-2).\n",
            "The following packages were automatically installed and are no longer required:\n",
            "  default-libmysqlclient-dev libarmadillo-dev libarpack2-dev libdap-dev\n",
            "  libdapserver7v5 libepsilon-dev libfreexl-dev libfyba-dev libgeotiff-dev\n",
            "  libgif-dev libjson-c-dev libkml-dev libkmlconvenience1 libkmlregionator1\n",
            "  libkmlxsd1 libminizip-dev libmysqlclient-dev libnetcdf-dev libogdi3.2-dev\n",
            "  libopenjp2-7-dev libpoppler-dev libpoppler-private-dev libpq-dev libproj-dev\n",
            "  libqhull-dev libqhull-r7 libspatialite-dev libsqlite3-dev libsuperlu-dev\n",
            "  liburiparser-dev libwebp-dev libxerces-c-dev unixodbc-dev\n",
            "Use 'apt autoremove' to remove them.\n",
            "0 upgraded, 0 newly installed, 0 to remove and 29 not upgraded.\n",
            "Requirement already satisfied: pyhdf in /usr/local/lib/python3.7/dist-packages (0.10.2)\n"
          ],
          "name": "stdout"
        }
      ]
    },
    {
      "cell_type": "code",
      "metadata": {
        "id": "T0zxSDk6TeFy",
        "colab": {
          "base_uri": "https://localhost:8080/"
        },
        "outputId": "401691f2-93d1-4955-95a9-79e7e99c9f4c"
      },
      "source": [
        "!pip3 install latex"
      ],
      "execution_count": null,
      "outputs": [
        {
          "output_type": "stream",
          "text": [
            "Requirement already satisfied: latex in /usr/local/lib/python3.7/dist-packages (0.7.0)\n",
            "Requirement already satisfied: tempdir in /usr/local/lib/python3.7/dist-packages (from latex) (0.7.1)\n",
            "Requirement already satisfied: shutilwhich in /usr/local/lib/python3.7/dist-packages (from latex) (1.1.0)\n",
            "Requirement already satisfied: future in /usr/local/lib/python3.7/dist-packages (from latex) (0.16.0)\n",
            "Requirement already satisfied: data in /usr/local/lib/python3.7/dist-packages (from latex) (0.4)\n",
            "Requirement already satisfied: six in /usr/local/lib/python3.7/dist-packages (from data->latex) (1.15.0)\n",
            "Requirement already satisfied: decorator in /usr/local/lib/python3.7/dist-packages (from data->latex) (4.4.2)\n",
            "Requirement already satisfied: funcsigs in /usr/local/lib/python3.7/dist-packages (from data->latex) (1.0.2)\n"
          ],
          "name": "stdout"
        }
      ]
    },
    {
      "cell_type": "code",
      "metadata": {
        "colab": {
          "base_uri": "https://localhost:8080/"
        },
        "id": "d8N9UKrAP2wf",
        "outputId": "2d5f13bd-dc19-41dd-b772-986e4efe935a"
      },
      "source": [
        "!pip3 install rasterio"
      ],
      "execution_count": null,
      "outputs": [
        {
          "output_type": "stream",
          "text": [
            "Requirement already satisfied: rasterio in /usr/local/lib/python3.7/dist-packages (1.2.1)\n",
            "Requirement already satisfied: cligj>=0.5 in /usr/local/lib/python3.7/dist-packages (from rasterio) (0.7.1)\n",
            "Requirement already satisfied: attrs in /usr/local/lib/python3.7/dist-packages (from rasterio) (20.3.0)\n",
            "Requirement already satisfied: numpy in /usr/local/lib/python3.7/dist-packages (from rasterio) (1.19.5)\n",
            "Requirement already satisfied: snuggs>=1.4.1 in /usr/local/lib/python3.7/dist-packages (from rasterio) (1.4.7)\n",
            "Requirement already satisfied: certifi in /usr/local/lib/python3.7/dist-packages (from rasterio) (2020.12.5)\n",
            "Requirement already satisfied: affine in /usr/local/lib/python3.7/dist-packages (from rasterio) (2.3.0)\n",
            "Requirement already satisfied: click-plugins in /usr/local/lib/python3.7/dist-packages (from rasterio) (1.1.1)\n",
            "Requirement already satisfied: click<8,>=4.0 in /usr/local/lib/python3.7/dist-packages (from rasterio) (7.1.2)\n",
            "Requirement already satisfied: pyparsing>=2.1.6 in /usr/local/lib/python3.7/dist-packages (from snuggs>=1.4.1->rasterio) (2.4.7)\n"
          ],
          "name": "stdout"
        }
      ]
    },
    {
      "cell_type": "markdown",
      "metadata": {
        "id": "Q9NOQXliUUIX"
      },
      "source": [
        "# PHD_AOD_ave.py"
      ]
    },
    {
      "cell_type": "code",
      "metadata": {
        "id": "et0d09joUEt5",
        "colab": {
          "base_uri": "https://localhost:8080/"
        },
        "outputId": "9e8f223a-1dec-4a13-90af-9df8780b86e5"
      },
      "source": [
        "from pyproj import Proj\n",
        "import numpy as np\n",
        "import matplotlib.pyplot as plt\n",
        "import pyresample as pr\n",
        "from pyresample import image, geometry\n",
        "from netCDF4 import Dataset\n",
        "from pylab import *\n",
        "from mpl_toolkits.basemap import Basemap, shiftgrid, cm\n",
        "import os\n",
        "import numpy as np\n",
        "from pyhdf.SD import SD, SDC\n",
        "from scipy.interpolate import griddata\n",
        "from osgeo import gdal"
      ],
      "execution_count": null,
      "outputs": [
        {
          "output_type": "stream",
          "text": [
            "/usr/local/lib/python3.7/dist-packages/pyresample/bilinear/__init__.py:50: UserWarning: XArray and/or zarr not found, XArrayBilinearResampler won't be available.\n",
            "  warnings.warn(\"XArray and/or zarr not found, XArrayBilinearResampler won't be available.\")\n"
          ],
          "name": "stderr"
        }
      ]
    },
    {
      "cell_type": "code",
      "metadata": {
        "id": "iLcIDlOCUSm-"
      },
      "source": [
        "def get_filepaths(directory,string):\n",
        "\n",
        "    file_paths = []  # List which will store all of the full filepaths.\n",
        "\n",
        "    # Walk the tree.\n",
        "    for root, directories, files in os.walk(directory):\n",
        "        for filename in files:\n",
        "            # Join the two strings in order to form the full filepath.\n",
        "            filepath = os.path.join(root, filename)\n",
        "            if string in filepath:\n",
        "                file_paths.append(filepath)  # Add it to the list.\n",
        "\n",
        "    return file_paths\n",
        "\n",
        "def getdataset(fn):\n",
        "    f = SD(fn, SDC.READ)\n",
        "\n",
        "\n",
        "    datasets_dic = f.datasets()\n",
        "\n",
        "\n",
        "    return f,datasets_dic\n",
        "\n",
        "\n",
        "def getdata(f,varname):\n",
        "    sds_obj = f.select(varname) #select sds\n",
        "    data = sds_obj.get() #get sds data\n",
        "    for key, value in sds_obj.attributes().items():\n",
        "\n",
        "        if key == 'add_offset':\n",
        "            add_offset = value\n",
        "        if key == 'scale_factor':\n",
        "            scale_factor = value\n",
        "    data = (data - add_offset) * scale_factor #correct the offset scale factor\n",
        "\n",
        "    return data\n",
        "\n",
        "def selectvar(fn):\n",
        "    f,datasets_dic = getdataset(fn)\n",
        "    ACFL=getdata(f,'Aerosol_Cloud_Fraction_Land')\n",
        "    ACFO=getdata(f,'Aerosol_Cloud_Fraction_Ocean')\n",
        "    longitude=getdata(f,'Longitude')\n",
        "    latitude=getdata(f,'Latitude')\n",
        "    CODL=getdata(f,'Optical_Depth_Land_And_Ocean')#'Corrected_Optical_Depth_Land_And_Ocean')#'av2p1')\n",
        "    temps=getdata(f,'Scan_Start_Time')\n",
        "\n",
        "\n",
        "\n",
        "    #    n=np.where(CODL==np.min(CODL))\n",
        "    #    latitude[n]=-500\n",
        "    #    longitude[n]=-500\n",
        "    #    nonvalid=0\n",
        "\n",
        "    return (CODL,longitude,latitude,temps)\n",
        "\n",
        "\n",
        "def regrid(lonmin,lonmax,latmin,latmax,grids,data,latitude,longitude):\n",
        "\n",
        "    lat=np.arange(latmin,latmax,grids)\n",
        "    lon=np.arange(lonmin,lonmax,grids)\n",
        "    n=np.where(data==np.min(data))\n",
        "    latitude[n]=-500\n",
        "    longitude[n]=-500\n",
        "    datan=np.zeros((len(lat),len(lon)))*np.nan\n",
        "    for i,la in enumerate(lat):\n",
        "        a=np.where(np.abs(la-latitude)<grids+0.01)\n",
        "        if len(a[0])>0:\n",
        "            for j,lo in enumerate(lon):\n",
        "                b=np.where(np.abs(lo-longitude[a])<grids+0.01)\n",
        "                if len(b[0])>0:\n",
        "                    indlat=a[0][b[0]][0]\n",
        "                    indlon=a[1][b[0]][0]\n",
        "                    datan[i][j]=CODL[indlat][indlon]\n",
        "\n",
        "    return(datan,lat,lon)\n",
        "\n",
        "def nan_helper(y):\n",
        "\n",
        "\n",
        "    return np.isnan(y), lambda z: z.nonzero()[0]"
      ],
      "execution_count": null,
      "outputs": []
    },
    {
      "cell_type": "code",
      "metadata": {
        "id": "Hfzu6kuy96jh"
      },
      "source": [
        "#I change this script then the filepath doesn't matter it just searches for the .A in the filename\n",
        "def sameday(filepath):\n",
        "    day=(filepath[0].split('.A')[1].split('.')[0])\n",
        "    dayoyear=[]\n",
        "    dayoyear.append(int(filepath[0].split('.A')[1].split('.')[0][4:7]))\n",
        "    dayindex=[]\n",
        "    dayindex.append(0)\n",
        "    for i,fn in enumerate(filepath):\n",
        "        if not day==int(fn.split('.A')[1].split('.')[0]):\n",
        "            dayindex.append(i)\n",
        "            day=int(fn.split('.A')[1].split('.')[0])\n",
        "            dayoyear.append(int(fn.split('.A')[1].split('.')[0][4:7]))\n",
        "    dayindex.append(len(filepath))\n",
        "    return(dayindex,dayoyear)"
      ],
      "execution_count": null,
      "outputs": []
    },
    {
      "cell_type": "code",
      "metadata": {
        "id": "dX4iV5AvVgMb"
      },
      "source": [
        "lonmin=-3.25\n",
        "lonmax=1.2\n",
        "latmin=4.6\n",
        "latmax=11.2\n",
        "gridsized=0.04\n",
        "CODLday=[]\n",
        "CODLrday=[]\n",
        "tday=[]\n",
        "CODLrdecjanfeb=[]\n",
        "tdecjanfeb=[]\n",
        "CODLrmaraprmay=[]\n",
        "tmaraprmay=[]\n",
        "CODLrjunjulaug=[]\n",
        "tjunjulaug=[]\n",
        "CODLrsepoctnov=[]\n",
        "tsepoctnov=[]"
      ],
      "execution_count": null,
      "outputs": []
    },
    {
      "cell_type": "markdown",
      "metadata": {
        "id": "5qX5A82OE0Fg"
      },
      "source": [
        "# Prepare mask"
      ]
    },
    {
      "cell_type": "code",
      "metadata": {
        "id": "sVUaZjNnN0SB"
      },
      "source": [
        "def getyearfiles(maskyearfile,Year): # This open the hdf file and creates a tif file corresponding to MASK and the QA of the MASK\n",
        "  for f in maskyearfile:\n",
        "    ds=gdal.Open(f)\n",
        "    subdatasets = ds.GetSubDatasets()\n",
        "    MASK_name = subdatasets[0][0]\n",
        "    MASK = gdal.Open(MASK_name, gdal.GA_ReadOnly)\n",
        "    QA_name = subdatasets[1][0]\n",
        "    QA = gdal.Open(QA_name, gdal.GA_ReadOnly)\n",
        "    #opt=gdal.WarpOptions(srcSRS=MASK.GetProjection(),dstSRS='EPSG:4326')\n",
        "    mask_fn=f.replace('.hdf','MASK.tif')\n",
        "    gdal.Warp(mask_fn,MASK)\n",
        "    qa_fn = f.replace('.hdf','QA.tif')\n",
        "    gdal.Warp(qa_fn,QA)"
      ],
      "execution_count": null,
      "outputs": []
    },
    {
      "cell_type": "code",
      "metadata": {
        "id": "4gCU2JKWy25j"
      },
      "source": [
        "def merge_and_repojectyearfiles(sources,outFileName): # this function merge the 4 year tile and reproject it it to lat/lon\n",
        "    gdal.Warp('temp.tif',sources)\n",
        "    ds=gdal.Open('temp.tif')\n",
        "    gt=ds.GetGeoTransform()\n",
        "    width=ds.RasterXSize\n",
        "    height=ds.RasterYSize\n",
        "    xmin = gt[0]\n",
        "    ymax = gt[3] + width*gt[4] + height*gt[5]\n",
        "    xmax = gt[0] + width*gt[1] + height*gt[2]\n",
        "    ymin = gt[3]\n",
        "\n",
        "\n",
        "    pr=Proj(ds.GetProjectionRef())\n",
        "    Xmin,Ymax=pr(gt[0],gt[3],inverse=True)\n",
        "    Xmax,Ymin=pr(gt[0] + width*gt[1] + height*gt[2],\n",
        "                gt[3] + width*gt[4] + height*gt[5],\n",
        "                inverse=True)\n",
        "    gt1=(Xmax-Xmin)/width\n",
        "    gt5=(Ymin-Ymax)/height\n",
        "    GT=(Xmin,gt1,0.0,Ymax,0.0,gt5)\n",
        "    driver = gdal.GetDriverByName(\"GTiff\")\n",
        "    outdata = driver.Create(outFileName, ds.RasterXSize, ds.RasterYSize, 1)\n",
        "    outdata.SetGeoTransform(GT)\n",
        "    outdata.SetProjection('EPSG:4326')\n",
        "    outdata.GetRasterBand(1).WriteArray(ds.ReadAsArray())\n",
        "    outdata.GetRasterBand(1).SetNoDataValue(253)##if you want these values transparent\n",
        "    outdata.FlushCache() ##saves to disk!!\n",
        "    outdata = None\n",
        "    band=None\n",
        "    ds=None"
      ],
      "execution_count": null,
      "outputs": []
    },
    {
      "cell_type": "code",
      "metadata": {
        "id": "5Owv1AKAOl4_",
        "colab": {
          "base_uri": "https://localhost:8080/"
        },
        "outputId": "3c1e715d-b51b-49b8-fadd-3e32d7274cdd"
      },
      "source": [
        "!ln -s /content/gdrive/MyDrive/Inland_water"
      ],
      "execution_count": null,
      "outputs": [
        {
          "output_type": "stream",
          "text": [
            "ln: failed to create symbolic link './Inland_water': File exists\n"
          ],
          "name": "stdout"
        }
      ]
    },
    {
      "cell_type": "code",
      "metadata": {
        "id": "1JD7gzcww74P"
      },
      "source": [
        "dirnamem = '/content/Inland_water'\n",
        "filepathm=get_filepaths(dirnamem,'.hdf')"
      ],
      "execution_count": null,
      "outputs": []
    },
    {
      "cell_type": "code",
      "metadata": {
        "id": "lzSKkwdGQfkD"
      },
      "source": [
        "# Merge the 4 year files and convert to LAT/LON projection\n",
        "Yearlist=np.arange(2005,2015)\n",
        "for Y in Yearlist:\n",
        "  Year=str(Y)\n",
        "  maskyearfile=[fv8 for fv8 in filepathm if '.A'+Year in fv8]\n",
        "  getyearfiles(maskyearfile,Year)\n",
        "  sourcesMASK=[f.replace('.hdf','MASK.tif') for f in sorted(maskyearfile)]\n",
        "  merge_and_repojectyearfiles(sourcesMASK,'merged'+Year+'MASK.tif')\n",
        "  sourcesQA=[f.replace('.hdf','QA.tif') for f in sorted(maskyearfile)]\n",
        "  merge_and_repojectyearfiles(sourcesQA,'merged'+Year+'QA.tif')"
      ],
      "execution_count": null,
      "outputs": []
    },
    {
      "cell_type": "code",
      "metadata": {
        "colab": {
          "base_uri": "https://localhost:8080/"
        },
        "id": "WD3YcmNX351W",
        "outputId": "f53dc2ad-f93c-41cc-ab4c-a652475c6663"
      },
      "source": [
        "!gdalinfo /content/Inland_water/MOD44W.A2014001.h17v07.006.2018033154358QA.tif"
      ],
      "execution_count": null,
      "outputs": [
        {
          "output_type": "stream",
          "text": [
            "Driver: GTiff/GeoTIFF\n",
            "Files: /content/Inland_water/MOD44W.A2014001.h17v07.006.2018033154358QA.tif\n",
            "Size is 4800, 4800\n",
            "Coordinate System is:\n",
            "PROJCS[\"unnamed\",\n",
            "    GEOGCS[\"Unknown datum based upon the custom spheroid\",\n",
            "        DATUM[\"Not_specified_based_on_custom_spheroid\",\n",
            "            SPHEROID[\"Custom spheroid\",6371007.181,0]],\n",
            "        PRIMEM[\"Greenwich\",0],\n",
            "        UNIT[\"degree\",0.0174532925199433]],\n",
            "    PROJECTION[\"Sinusoidal\"],\n",
            "    PARAMETER[\"longitude_of_center\",0],\n",
            "    PARAMETER[\"false_easting\",0],\n",
            "    PARAMETER[\"false_northing\",0],\n",
            "    UNIT[\"metre\",1,\n",
            "        AUTHORITY[\"EPSG\",\"9001\"]]]\n",
            "Origin = (-1111950.519667000044137,2223901.039332999847829)\n",
            "Pixel Size = (231.656358263854145,-231.656358263854145)\n",
            "Metadata:\n",
            "  AREA_OR_POINT=Area\n",
            "  ASSOCIATEDINSTRUMENTSHORTNAME.1=MODIS\n",
            "  ASSOCIATEDPLATFORMSHORTNAME.1=Terra\n",
            "  ASSOCIATEDSENSORSHORTNAME.1=MODIS\n",
            "  AUTOMATICQUALITYFLAG.1=Passed\n",
            "  AUTOMATICQUALITYFLAGEXPLANATION.1=set passed as default, will decide later\n",
            "  DATACOLUMNS=4800\n",
            "  DATAROWS=4800\n",
            "  DAYNIGHTFLAG=Day\n",
            "  DESCRREVISION=6.0\n",
            "  EASTBOUNDINGCOORDINATE=0.008868\n",
            "  EXCLUSIONGRINGFLAG.1=N\n",
            "  GLOBALGRIDCOLUMNS=172800\n",
            "  GLOBALGRIDROWS=86400\n",
            "  GRINGPOINTLATITUDE.1=9.960728, 20.000000, 20.001664, 9.962236\n",
            "  GRINGPOINTLONGITUDE.1=-10.154572, -10.641778, 0.010457, 0.008453\n",
            "  GRINGPOINTSEQUENCENO.1=1, 2, 3, 4\n",
            "  HDFEOSVersion=HDFEOS_V2.19\n",
            "  HORIZONTALTILENUMBER=17\n",
            "  IDENTIFIER_PRODUCT_DOI=10.5067/MODIS/MOD44W.006\n",
            "  IDENTIFIER_PRODUCT_DOI_AUTHORITY=http://dx.doi.org\n",
            "  INPUTPOINTER=MOD44W_h17v07_2014_v5.raw, MOD44W_h17v07_2014_QA_v5.raw\n",
            "  Legend=1: High Confidence Observation\n",
            "     2: Low Confidence Water, but MOD44W C5 is water\n",
            "     3: Low Confidence Land\n",
            "     4: Ocean Mask\n",
            "     5: Ocean Mask but no water detected\n",
            "     6: Burn Scar (from MCD64A1)\n",
            "     7: Urban/Impervious surface\n",
            "     8: No water detected, Collection 5 shows water\n",
            "    10: No data (outside of projected area)\n",
            "  LOCALGRANULEID=MOD44W.A2014001.h17v07.006.2018033154358.hdf\n",
            "  LOCALVERSIONID=6.0.0\n",
            "  LONGNAME=MODIS/Terra Land Water Mask Derived from MODIS and SRTM L3 Global 250m SIN Grid\n",
            "  long_name=water_mask_QA\n",
            "  NORTHBOUNDINGCOORDINATE=20.000000\n",
            "  OPERATIONALQUALITYFLAG.1=Passed\n",
            "  OPERATIONALQUALITYFLAGEXPLANATION.1=set passed as default, will decide later\n",
            "  PARAMETERNAME.1=MODIS/Terra Land Water Mask Derived from MODIS and SRTM L3 Global 250m SIN Grid\n",
            "  PGEVERSION=6.0.0\n",
            "  PROCESSINGCENTER=UMD\n",
            "  PRODUCTIONDATETIME=2018-02-02T15:43:58.000Z\n",
            "  QAPERCENTGOODQUALITY=100\n",
            "  QAPERCENTINTERPOLATEDDATA.1=0\n",
            "  QAPERCENTMISSINGDATA.1=0\n",
            "  QAPERCENTNOTPRODUCEDCLOUD=0\n",
            "  QAPERCENTNOTPRODUCEDOTHER=0\n",
            "  QAPERCENTOTHERQUALITY=0\n",
            "  QAPERCENTOUTOFBOUNDSDATA.1=0\n",
            "  RANGEBEGINNINGDATE=2014-01-01\n",
            "  RANGEBEGINNINGTIME=00:00:00.000000\n",
            "  RANGEENDINGDATE=2014-12-31\n",
            "  RANGEENDINGTIME=00:00:00.000000\n",
            "  REPROCESSINGACTUAL=processed once\n",
            "  REPROCESSINGPLANNED=further update is anticipated\n",
            "  SHORTNAME=MOD44W\n",
            "  SOUTHBOUNDINGCOORDINATE=10.000000\n",
            "  SPSOPARAMETERS=none\n",
            "  TileID=51017007\n",
            "  units=none\n",
            "  valid_range=1, 10\n",
            "  VERSIONID=6\n",
            "  VERTICALTILENUMBER=7\n",
            "  WESTBOUNDINGCOORDINATE=-10.641778\n",
            "  _FillValue=253\n",
            "Image Structure Metadata:\n",
            "  INTERLEAVE=BAND\n",
            "Corner Coordinates:\n",
            "Upper Left  (-1111950.520, 2223901.039) ( 10d38'30.40\"W, 20d 0' 0.00\"N)\n",
            "Lower Left  (-1111950.520, 1111950.520) ( 10d 9'15.36\"W, 10d 0' 0.00\"N)\n",
            "Upper Right (      -0.000, 2223901.039) (  0d 0' 0.00\"W, 20d 0' 0.00\"N)\n",
            "Lower Right (      -0.000, 1111950.520) (  0d 0' 0.00\"W, 10d 0' 0.00\"N)\n",
            "Center      ( -555975.260, 1667925.779) (  5d10'34.97\"W, 15d 0' 0.00\"N)\n",
            "Band 1 Block=4800x1 Type=Byte, ColorInterp=Gray\n",
            "  Description = water_mask_QA\n",
            "  NoData Value=253\n",
            "  Unit Type: none\n"
          ],
          "name": "stdout"
        }
      ]
    },
    {
      "cell_type": "code",
      "metadata": {
        "colab": {
          "base_uri": "https://localhost:8080/",
          "height": 269
        },
        "id": "gTTEwPzpp2pU",
        "outputId": "42d82673-b7e5-45ad-bda7-a232bf49f265"
      },
      "source": [
        "# Plot the Year 2015 mask\n",
        "fig=plt.figure()\n",
        "ax=fig.gca()\n",
        "im=ax.imshow(gdal.Open('merged'+Year+'MASK.tif').ReadAsArray())\n",
        "cb = plt.colorbar(im)\n"
      ],
      "execution_count": null,
      "outputs": [
        {
          "output_type": "display_data",
          "data": {
            "image/png": "[encoded data removed]",
            "text/plain": [
              "<Figure size 432x288 with 2 Axes>"
            ]
          },
          "metadata": {
            "tags": [],
            "needs_background": "light"
          }
        }
      ]
    },
    {
      "cell_type": "code",
      "metadata": {
        "id": "uxXyRRvF6NC5",
        "colab": {
          "base_uri": "https://localhost:8080/",
          "height": 269
        },
        "outputId": "e830132e-2421-4475-d7c2-fb9575ba2967"
      },
      "source": [
        "#Plot the year 2015 QA of the MASK\n",
        "fig=plt.figure()\n",
        "ax=fig.gca()\n",
        "im=ax.imshow(gdal.Open('merged'+Year+'QA.tif').ReadAsArray())\n",
        "cb = plt.colorbar(im)"
      ],
      "execution_count": null,
      "outputs": [
        {
          "output_type": "display_data",
          "data": {
            "image/png": "[encoded data removed]",
            "text/plain": [
              "<Figure size 432x288 with 2 Axes>"
            ]
          },
          "metadata": {
            "tags": [],
            "needs_background": "light"
          }
        }
      ]
    },
    {
      "cell_type": "code",
      "metadata": {
        "id": "Etv64vtPxHng"
      },
      "source": [
        "# Sum all the MASK values\n",
        "sumMASKarray=np.sum(np.array([gdal.Open('merged'+str(Year)+'MASK.tif').ReadAsArray() for Year in Yearlist]),axis=0)/len(Yearlist)"
      ],
      "execution_count": null,
      "outputs": []
    },
    {
      "cell_type": "code",
      "metadata": {
        "colab": {
          "base_uri": "https://localhost:8080/",
          "height": 269
        },
        "id": "5ut6sFG8x5Nd",
        "outputId": "797242da-4c01-4c4c-a221-d8f8e853fbde"
      },
      "source": [
        "fig=plt.figure()\n",
        "ax=fig.gca()\n",
        "im=ax.imshow(sumMASKarray)\n",
        "cb = plt.colorbar(im)"
      ],
      "execution_count": null,
      "outputs": [
        {
          "output_type": "display_data",
          "data": {
            "image/png": "[encoded data removed]",
            "text/plain": [
              "<Figure size 432x288 with 2 Axes>"
            ]
          },
          "metadata": {
            "tags": [],
            "needs_background": "light"
          }
        }
      ]
    },
    {
      "cell_type": "code",
      "metadata": {
        "id": "GJqn-9oX1FNh"
      },
      "source": [
        "def sortQAvalues(Year,validQAvalues):\n",
        "  Ar=gdal.Open('merged'+Year+'QA.tif').ReadAsArray()\n",
        "  Res=Ar*0+1\n",
        "  for v in validQAvalues:\n",
        "    Res[np.where(Ar==v)]=0\n",
        "  return Res\n",
        ""
      ],
      "execution_count": null,
      "outputs": []
    },
    {
      "cell_type": "code",
      "metadata": {
        "id": "lO1CQf9Q1Dzr"
      },
      "source": [
        "validQAvalues=[1,3,7,8] #define the qa index we save"
      ],
      "execution_count": null,
      "outputs": []
    },
    {
      "cell_type": "markdown",
      "metadata": {
        "id": "bRTB3LKJ5JSI"
      },
      "source": [
        "  Legend=1: High Confidence Observation\n",
        "     2: Low Confidence Water, but MOD44W C5 is water\n",
        "     3: Low Confidence Land\n",
        "     4: Ocean Mask\n",
        "     5: Ocean Mask but no water detected\n",
        "     6: Burn Scar (from MCD64A1)\n",
        "     7: Urban/Impervious surface\n",
        "     8: No water detected, Collection 5 shows water\n",
        "    10: No data (outside of projected area)"
      ]
    },
    {
      "cell_type": "code",
      "metadata": {
        "id": "20bJdisu_Jg4"
      },
      "source": [
        "Res=np.sum(np.array([sortQAvalues(str(Year),validQAvalues) for Year in Yearlist]),axis=0)"
      ],
      "execution_count": null,
      "outputs": []
    },
    {
      "cell_type": "code",
      "metadata": {
        "id": "-bEMvm5e-iA9"
      },
      "source": [
        "QAresmask=np.array((sumMASKarray+Res)==0) #resulting QA mask"
      ],
      "execution_count": null,
      "outputs": []
    },
    {
      "cell_type": "code",
      "metadata": {
        "colab": {
          "base_uri": "https://localhost:8080/",
          "height": 269
        },
        "id": "oup4Mgtj7ge_",
        "outputId": "5dea81cd-0080-4f76-e8ad-6be0be445b7e"
      },
      "source": [
        "fig=plt.figure()\n",
        "ax=fig.gca()\n",
        "im=ax.imshow(QAresmask*1000)\n",
        "cb = plt.colorbar(im)"
      ],
      "execution_count": null,
      "outputs": [
        {
          "output_type": "display_data",
          "data": {
            "image/png": "[encoded data removed]",
            "text/plain": [
              "<Figure size 432x288 with 2 Axes>"
            ]
          },
          "metadata": {
            "tags": [],
            "needs_background": "light"
          }
        }
      ]
    },
    {
      "cell_type": "code",
      "metadata": {
        "id": "Ps88voPO6O7Q",
        "colab": {
          "base_uri": "https://localhost:8080/",
          "height": 195
        },
        "outputId": "2e7d3038-354d-4d2c-f5db-c42676fe4c4c"
      },
      "source": [
        "Xmax,Ymin=pr(gt[0] + width*gt[1] + height*gt[2],\n",
        "             gt[3] + width*gt[4] + height*gt[5],\n",
        "             inverse=True)"
      ],
      "execution_count": null,
      "outputs": [
        {
          "output_type": "error",
          "ename": "NameError",
          "evalue": "ignored",
          "traceback": [
            "\u001b[0;31m---------------------------------------------------------------------------\u001b[0m",
            "\u001b[0;31mNameError\u001b[0m                                 Traceback (most recent call last)",
            "\u001b[0;32m<ipython-input-25-d786ae668727>\u001b[0m in \u001b[0;36m<module>\u001b[0;34m()\u001b[0m\n\u001b[0;32m----> 1\u001b[0;31m Xmax,Ymin=pr(gt[0] + width*gt[1] + height*gt[2],\n\u001b[0m\u001b[1;32m      2\u001b[0m              \u001b[0mgt\u001b[0m\u001b[0;34m[\u001b[0m\u001b[0;36m3\u001b[0m\u001b[0;34m]\u001b[0m \u001b[0;34m+\u001b[0m \u001b[0mwidth\u001b[0m\u001b[0;34m*\u001b[0m\u001b[0mgt\u001b[0m\u001b[0;34m[\u001b[0m\u001b[0;36m4\u001b[0m\u001b[0;34m]\u001b[0m \u001b[0;34m+\u001b[0m \u001b[0mheight\u001b[0m\u001b[0;34m*\u001b[0m\u001b[0mgt\u001b[0m\u001b[0;34m[\u001b[0m\u001b[0;36m5\u001b[0m\u001b[0;34m]\u001b[0m\u001b[0;34m,\u001b[0m\u001b[0;34m\u001b[0m\u001b[0;34m\u001b[0m\u001b[0m\n\u001b[1;32m      3\u001b[0m              inverse=True)\n",
            "\u001b[0;31mNameError\u001b[0m: name 'gt' is not defined"
          ]
        }
      ]
    },
    {
      "cell_type": "code",
      "metadata": {
        "id": "OYcsCYuA6ulT"
      },
      "source": [
        "!gdalinfo test2.tif"
      ],
      "execution_count": null,
      "outputs": []
    },
    {
      "cell_type": "code",
      "metadata": {
        "id": "I1crKEoZ3Irl"
      },
      "source": [
        "pr=Proj(ds.GetProjectionRef())"
      ],
      "execution_count": null,
      "outputs": []
    },
    {
      "cell_type": "code",
      "metadata": {
        "id": "lR4qenGS5Aj8"
      },
      "source": [
        "np.median(np.gradient(lat,axis=0))"
      ],
      "execution_count": null,
      "outputs": []
    },
    {
      "cell_type": "code",
      "metadata": {
        "id": "B4PCQZAd3VBF"
      },
      "source": [
        "np.median(np.gradient(lon,axis=1))"
      ],
      "execution_count": null,
      "outputs": []
    },
    {
      "cell_type": "code",
      "metadata": {
        "id": "35HEW8CgH5JM"
      },
      "source": [
        "Year='2015'\n",
        "maskyearfile=[fv8 for fv8 in filepathm if '.A'+Year in fv8]"
      ],
      "execution_count": null,
      "outputs": []
    },
    {
      "cell_type": "code",
      "metadata": {
        "id": "kJxPAgpM9mir"
      },
      "source": [
        "filepathv8=[f for f in filepathm if 'v08.006' in f] # select the version 8"
      ],
      "execution_count": null,
      "outputs": []
    },
    {
      "cell_type": "code",
      "metadata": {
        "id": "pbk1r1St9eoV"
      },
      "source": [
        "Year='2015'\n",
        "maskyearfile=[fv8 for fv8 in filepathv8 if '.A'+Year in fv8]# select the file corresponding to 2015\n",
        "maskyearhfile=[m for m in maskyearfile if '.h17' in m ][0]# select the h17 file don't know what are these????"
      ],
      "execution_count": null,
      "outputs": []
    },
    {
      "cell_type": "code",
      "metadata": {
        "id": "2FCpXz-NysLR"
      },
      "source": [
        "ds=gdal.Open(maskyearhfile[0])\n",
        "subdatasets = ds.GetSubDatasets()\n",
        "MASK_name = subdatasets[0][0]\n",
        "MASK = gdal.Open(MASK_name, gdal.GA_ReadOnly)\n",
        "QA_name = subdatasets[1][0]\n",
        "QA = gdal.Open(QA_name, gdal.GA_ReadOnly)\n",
        "opt=gdal.WarpOptions(dstSRS='EPSG:4326')\n",
        "                     #outputBounds=(lonmin-(gridsized/2), latmin-(gridsized/2), lonmax+(gridsized/2), latmin+(gridsized/2)))\n",
        "mask_fn=maskyearhfile.replace('.hdf','MASK.tif')\n",
        "gdal.Warp(mask_fn,MASK,options=opt)\n",
        "qa_fn = maskyearhfile.replace('.hdf','QA.tif')\n",
        "gdal.Warp(qa_fn,QA,options=opt)"
      ],
      "execution_count": null,
      "outputs": []
    },
    {
      "cell_type": "code",
      "metadata": {
        "id": "byl48XCYIl_s"
      },
      "source": [
        "maskyearhfile"
      ],
      "execution_count": null,
      "outputs": []
    },
    {
      "cell_type": "code",
      "metadata": {
        "id": "5Ewo0J6JP4-a"
      },
      "source": [
        "os.remove(mask_fn)"
      ],
      "execution_count": null,
      "outputs": []
    },
    {
      "cell_type": "code",
      "metadata": {
        "id": "nyNoR0MGQsYX"
      },
      "source": [
        "MASK.GetGeoTransform()"
      ],
      "execution_count": null,
      "outputs": []
    },
    {
      "cell_type": "code",
      "metadata": {
        "id": "2flJJAA6RSXl"
      },
      "source": [
        "MASK.GetProjection()"
      ],
      "execution_count": null,
      "outputs": []
    },
    {
      "cell_type": "code",
      "metadata": {
        "id": "kolMeRtsMgFY"
      },
      "source": [
        "ds=gdal.Open(mask_fn)\n",
        "data=ds.ReadAsArray()\n",
        "ds.GetGeoTransform()"
      ],
      "execution_count": null,
      "outputs": []
    },
    {
      "cell_type": "code",
      "metadata": {
        "id": "0ONLGvUGNzY9"
      },
      "source": [
        "plt.imshow(data)"
      ],
      "execution_count": null,
      "outputs": []
    },
    {
      "cell_type": "code",
      "metadata": {
        "id": "cPt4FSvdCQl2"
      },
      "source": [],
      "execution_count": null,
      "outputs": []
    },
    {
      "cell_type": "code",
      "metadata": {
        "id": "gvx-iXD0MZEg"
      },
      "source": [
        "fig = plt.figure(figsize=(40,30))\n",
        "ax = fig.add_subplot(111)\n",
        "m =  Basemap(projection='merc',llcrnrlat=latmin,urcrnrlat=latmax,\\\n",
        "           llcrnrlon=lonmin,urcrnrlon=lonmax,lat_ts=1,resolution='f')\n",
        "\n",
        "nx = int((m.xmax-m.xmin)/(gridsized*100000.))+1; ny = int((m.ymax-m.ymin)/(gridsized*100000.))+1\n",
        "#nx = int((m.xmax-m.xmin)/(5000.))+1; ny = int((m.ymax-m.ymin)/(5000.))+1\n",
        "CODLavgt=m.transform_scalar(ODavg,lon,lat,nx,ny)\n",
        "im=m.imshow(CODLavgt,cmap=plt.cm.YlOrRd,vmin=0,vmax=0.8,)#cmap=plt.cm.jet\n",
        "m.drawcoastlines()\n",
        "m.drawcountries(linewidth=4)\n",
        "\n",
        "kulon = -1.6163\n",
        "kulat = 6.66666\n",
        "x,y = m(kulon, kulat)\n",
        "k=m.plot(x, y, 'ko', markersize=40)\n",
        "ax.text(x+12000,y-5000,r'Kumasi', fontsize=60,color='black')\n",
        "\n",
        "Aclon=-0.1870\n",
        "Aclat=5.6037\n",
        "#5.6037° N, 0.1870° W\n",
        "x,y = m(Aclon, Aclat)\n",
        "k=m.plot(x, y, 'ko', markersize=40)\n",
        "ax.text(x+12000,y-5000,'Accra', fontsize=60,color='black')\n",
        "\n",
        "Tamlon=-0.8486\n",
        "Tamlat=9.4329\n",
        "#5.6037° N, 0.1870° W\n",
        "x,y = m(Tamlon, Tamlat)\n",
        "k=m.plot(x, y, 'ko', markersize=40)\n",
        "ax.text(x+12000,y-5000,r'Tamale', fontsize=60,color='black')\n",
        "\n",
        "aerolon=-0.30206\n",
        "aerolat=6.10941\n",
        "#5.6037° N, 0.1870° W\n",
        "x,y = m(aerolon, aerolat)\n",
        "k=m.plot(x, y, '*k', markersize=40)\n",
        "ax.text(x+12000,y-5000,r'Aeronet site', fontsize=60,color='black')\n",
        "\n",
        "\n",
        "Tarlon=-1.7831\n",
        "Tarlat=4.9016\n",
        "#5.6037° N, 0.1870° W\n",
        "x,y = m(Tarlon, Tarlat)\n",
        "k=m.plot(x, y, 'ko', markersize=40)\n",
        "ax.text(x+12000,y-5000,r'Takoradi', fontsize=60,color='black')\n",
        "\n",
        "parallels = np.arange(4,12,2)\n",
        "m.drawparallels(parallels,labels=[1,0,0,1],fontsize=30)\n",
        "meridians = np.arange(-5.,8.,2)\n",
        "m.drawmeridians(meridians,labels=[1,0,0,1],fontsize=30)\n",
        "\n",
        "##getting the limits of the map:\n",
        "x0,x1 = ax.get_xlim()\n",
        "y0,y1 = ax.get_ylim()\n",
        "map_edges = np.array([[x0,y0],[x1,y0],[x1,y1],[x0,y1]])\n",
        "\n",
        "##getting all polygons used to draw the coastlines of the map\n",
        "polys = [p.boundary for p in m.landpolygons]\n",
        "\n",
        "##combining with map edges\n",
        "polys = [map_edges]+polys[:]\n",
        "\n",
        "##creating a PathPatch\n",
        "codes = [\n",
        "    [Path.MOVETO] + [Path.LINETO for p in p[1:]]\n",
        "    for p in polys\n",
        "]\n",
        "polys_lin = [v for p in polys for v in p]\n",
        "codes_lin = [c for cs in codes for c in cs]\n",
        "path = Path(polys_lin, codes_lin)\n",
        "patch = PathPatch(path,facecolor='white', lw=0)\n",
        "\n",
        "##masking the data:\n",
        "ax.add_patch(patch)\n",
        "\n",
        "cb = m.colorbar(im,\"right\", size=\"5%\", pad='2%')\n",
        "cb.ax.set_ylabel('$AOD$',fontsize=50)\n",
        "cb.ax.tick_params(labelsize=50)\n",
        "ax.set_xlabel('$Latitude (^{o})$',fontsize=50)\n",
        "ax.set_ylabel('$Longitude (^{o})$',fontsize=50)\n",
        "ax.tick_params(axis='x', labelsize=50)\n",
        "ax.tick_params(axis='y', labelsize=50)\n",
        "ax.xaxis.labelpad = 50\n",
        "ax.yaxis.labelpad = 50\n",
        "fig.savefig('AOD_Average_2016.pdf',bbox='tight',transparent=False, format='pdf', dpi=100)"
      ],
      "execution_count": null,
      "outputs": []
    },
    {
      "cell_type": "markdown",
      "metadata": {
        "id": "BZzwexjNE8Es"
      },
      "source": [
        "# loop over the dayindex"
      ]
    },
    {
      "cell_type": "code",
      "metadata": {
        "id": "UCOzgQWUVtVJ"
      },
      "source": [
        "dayindex,dayoyear=sameday(filepath)"
      ],
      "execution_count": null,
      "outputs": []
    },
    {
      "cell_type": "code",
      "metadata": {
        "id": "DpMblHxzEVQX"
      },
      "source": [
        "filenamenetcdf = 'aqua_aod_ghana_avg_timev2_GB2016_land_ocean.nc'\n",
        "data_netcdf(filenamenetcdf,CODLravg,CODLrstd,CODLrday,CODLrdecjanfebavg,CODLrdecjanfebstd,CODLrmaraprmayavg,CODLrmaraprmaystd,CODLrjunjulaugavg,CODLrjunjulaugstd,CODLrsepoctnovavg,CODLrsepoctnovstd,lat,lon,tday)"
      ],
      "execution_count": null,
      "outputs": []
    },
    {
      "cell_type": "markdown",
      "metadata": {
        "id": "2MGpXTj0FgZR"
      },
      "source": [
        "# my_try_AOD_PHD.py"
      ]
    },
    {
      "cell_type": "code",
      "metadata": {
        "id": "l4xZb-r3FmPV"
      },
      "source": [
        "import numpy as np\n",
        "# LatLon with WGS84 datum used by GPS units and Google Earth\n",
        "import matplotlib.pyplot as plt\n",
        "import pyresample as pr\n",
        "from pyresample import image, geometry\n",
        "from netCDF4 import Dataset\n",
        "from pylab import *\n",
        "from mpl_toolkits.basemap import Basemap, shiftgrid, cm\n",
        "import os\n",
        "# from matplotlib import rc\n",
        "import numpy as np\n",
        "from mpl_toolkits.basemap import addcyclic\n",
        "from pyhdf.SD import SD, SDC\n",
        "from scipy.interpolate import griddata\n",
        "from geopy.distance import great_circle\n",
        "import xarray as xr\n",
        "from matplotlib.patches import Path, PathPatch\n",
        "from matplotlib import rc, rcParams\n",
        "import latex"
      ],
      "execution_count": null,
      "outputs": []
    },
    {
      "cell_type": "code",
      "metadata": {
        "id": "tlyPuc6fFunk"
      },
      "source": [
        "def get_filepaths(directory,string):\n",
        "\n",
        "    file_paths = []  # List which will store all of the full filepaths.\n",
        "\n",
        "    # Walk the tree.\n",
        "    for root, directories, files in os.walk(directory):\n",
        "        for filename in files:\n",
        "            # Join the two strings in order to form the full filepath.\n",
        "            filepath = os.path.join(root, filename)\n",
        "            if string in filepath:\n",
        "                file_paths.append(filepath)  # Add it to the list.\n",
        "\n",
        "    return file_paths\n",
        "\n",
        "\n",
        "\n",
        "\n",
        "def regrid(lonmin,lonmax,latmin,latmax,grids,data,latitude,longitude):\n",
        "\n",
        "    lat=np.arange(latmin,latmax,grids)\n",
        "    lon=np.arange(lonmin,lonmax,grids)\n",
        "    n=np.where(data==np.min(data))\n",
        "    latitude[n]=-500\n",
        "    longitude[n]=-500\n",
        "   # nonvalid=0\n",
        "    datan=np.zeros((len(lat),len(lon)))*np.nan\n",
        "    for i,la in enumerate(lat):\n",
        "        a=np.where(np.abs(la-latitude)<grids+0.01)\n",
        "        if len(a[0])>0:\n",
        "            for j,lo in enumerate(lon):\n",
        "                b=np.where(np.abs(lo-longitude[a])<grids+0.01)\n",
        "                if len(b[0])>0:\n",
        "                    indlat=a[0][b[0]][0]\n",
        "                    indlon=a[1][b[0]][0]\n",
        "                    datan[i][j]=CODL[indlat][indlon]\n",
        "\n",
        "    return(datan,lat,lon)"
      ],
      "execution_count": null,
      "outputs": []
    },
    {
      "cell_type": "code",
      "metadata": {
        "id": "EbrH_5-gFzDR"
      },
      "source": [
        "def nan_helper(y):\n",
        "    return np.isnan(y), lambda z: z.nonzero()[0]"
      ],
      "execution_count": null,
      "outputs": []
    },
    {
      "cell_type": "code",
      "metadata": {
        "id": "wXt5xFMfF4UY"
      },
      "source": [
        "def opennetcdfprofiles(fn):\n",
        "    dataset=Dataset(fn)\n",
        "    ODavg= dataset.variables['optical_depth_avg'][:]\n",
        "    ODstd= dataset.variables['optical_depth_std'][:]\n",
        "    ODday= dataset.variables['optical_depth_day'][:]\n",
        "    #ODjunjul=dataset.variables['optical_depth_avg_jun_jul'][:]\n",
        "    #ODsepoct=dataset.variables['optical_depth_avg_sep_oct'][:]\n",
        "    ODdecjanfeb=dataset.variables['optical_depth_avg_dec_jan_feb'][:]\n",
        "    #ODfebmaraprstd=dataset.createVariable('optical_depth_std_feb_mar_apr'][:]\n",
        "    ODmaraprmay=dataset.variables['optical_depth_avg_mar_apr_may'][:]\n",
        "    #ODmayjunjulstd=dataset.createVariable('optical_depth_std_may_jun_jul'][:]\n",
        "    ODjunjulaug=dataset.variables['optical_depth_avg_jun_jul_aug'][:]\n",
        "    ODsepoctnov=dataset.variables['optical_depth_avg_sep_oct_nov'][:]\n",
        "    #ODdry=dataset.variables['optical_depth_avg_dry'][:]\n",
        "    lon= dataset.variables['longitude'][:]\n",
        "    lat= dataset.variables['latitude'][:]\n",
        "    t= dataset.variables['temps'][:]\n",
        "\n",
        "\n",
        "\n",
        "    return (ODavg,ODstd,ODday,ODdecjanfeb,ODmaraprmay,ODjunjulaug,ODsepoctnov,lat,lon,t)\n",
        "\n",
        "def cityextraction(OD,lat,lon,radius,aerolat,aerolon):\n",
        "    aerolatmax=aerolat+radius\n",
        "    aerolatmin=aerolat-radius\n",
        "    aerolonmax=aerolon+radius\n",
        "    aerolonmin=aerolon-radius\n",
        "    indlonmax=np.argmin(np.abs(lon-aerolonmax))\n",
        "    indlonmin=np.argmin(np.abs(lon-aerolonmin))\n",
        "    indlatmax=np.argmin(np.abs(lat-aerolatmax))\n",
        "    indlatmin=np.argmin(np.abs(lat-aerolatmin))\n",
        "    ODlat=ODavg[indlatmin:indlatmax]\n",
        "    ODavlont=ODlat.T[indlonmin:indlonmax]\n",
        "    ODcity=ODavlont.T\n",
        "    loncity=lon[indlonmin:indlonmax]\n",
        "    latcity=lat[indlatmin:indlatmax]\n",
        "\n",
        "    return (ODcity,loncity,latcity)"
      ],
      "execution_count": null,
      "outputs": []
    },
    {
      "cell_type": "code",
      "metadata": {
        "id": "ims3B4GZGD3-"
      },
      "source": [
        "\n",
        "def shoot(lon, lat, azimuth, maxdist=None):\n",
        "    \"\"\"Shooter Function\n",
        "    Original javascript on http://williams.best.vwh.net/gccalc.htm\n",
        "    Translated to python by Thomas Lecocq\n",
        "    \"\"\"\n",
        "    glat1 = lat * np.pi / 180.\n",
        "    glon1 = lon * np.pi / 180.\n",
        "    s = maxdist / 1.852\n",
        "    faz = azimuth * np.pi / 180.\n",
        "\n",
        "    EPS= 0.00000000005\n",
        "    if ((np.abs(np.cos(glat1))<EPS) and not (np.abs(np.sin(faz))<EPS)):\n",
        "        alert(\"Only N-S courses are meaningful, starting at a pole!\")\n",
        "\n",
        "    a=6378.13/1.852\n",
        "    f=1/298.257223563\n",
        "    r = 1 - f\n",
        "    tu = r * np.tan(glat1)\n",
        "    sf = np.sin(faz)\n",
        "    cf = np.cos(faz)\n",
        "    if (cf==0):\n",
        "        b=0.\n",
        "    else:\n",
        "        b=2. * np.arctan2 (tu, cf)\n",
        "\n",
        "    cu = 1. / np.sqrt(1 + tu * tu)\n",
        "    su = tu * cu\n",
        "    sa = cu * sf\n",
        "    c2a = 1 - sa * sa\n",
        "    x = 1. + np.sqrt(1. + c2a * (1. / (r * r) - 1.))\n",
        "    x = (x - 2.) / x\n",
        "    c = 1. - x\n",
        "    c = (x * x / 4. + 1.) / c\n",
        "    d = (0.375 * x * x - 1.) * x\n",
        "    tu = s / (r * a * c)\n",
        "    y = tu\n",
        "    c = y + 1\n",
        "    while (np.abs (y - c) > EPS):\n",
        "\n",
        "        sy = np.sin(y)\n",
        "        cy = np.cos(y)\n",
        "        cz = np.cos(b + y)\n",
        "        e = 2. * cz * cz - 1.\n",
        "        c = y\n",
        "        x = e * cy\n",
        "        y = e + e - 1.\n",
        "        y = (((sy * sy * 4. - 3.) * y * cz * d / 6. + x) *\n",
        "              d / 4. - cz) * sy * d + tu\n",
        "\n",
        "    b = cu * cy * cf - su * sy\n",
        "    c = r * np.sqrt(sa * sa + b * b)\n",
        "    d = su * cy + cu * sy * cf\n",
        "    glat2 = (np.arctan2(d, c) + np.pi) % (2*np.pi) - np.pi\n",
        "    c = cu * cy - su * sy * cf\n",
        "    x = np.arctan2(sy * sf, c)\n",
        "    c = ((-3. * c2a + 4.) * f + 4.) * c2a * f / 16.\n",
        "    d = ((e * cy * c + cz) * sy * c + y) * sa\n",
        "    glon2 = ((glon1 + x - (1. - c) * d * f + np.pi) % (2*np.pi)) - np.pi\n",
        "\n",
        "    baz = (np.arctan2(sa, b) + np.pi) % (2 * np.pi)\n",
        "\n",
        "    glon2 *= 180./np.pi\n",
        "    glat2 *= 180./np.pi\n",
        "    baz *= 180./np.pi\n",
        "\n",
        "    return (glon2, glat2, baz)\n",
        "\n",
        "def equi(m, centerlon, centerlat, radius, *args, **kwargs):\n",
        "    glon1 = centerlon\n",
        "    glat1 = centerlat\n",
        "    X = []\n",
        "    Y = []\n",
        "    for azimuth in range(0,360):\n",
        "        glon2, glat2, baz = shoot(glon1, glat1, azimuth, radius)\n",
        "        X.append(glon2)\n",
        "        Y.append(glat2)\n",
        "    X.append(X[0])\n",
        "    Y.append(Y[0])\n",
        "\n",
        "    #m.plot(X,Y,**kwargs) #Should work, but doesn't...\n",
        "    Xn,Yn = m(X,Y)\n",
        "    return (Xn,Yn)\n",
        "\n",
        "def distancekl(lon,lat,distmin,distmax,aerolon,aerolat):\n",
        "    validcouple=[]\n",
        "    aerocoord=(aerolon,aerolat)\n",
        "    for i,lo in enumerate(lon):\n",
        "        for j,la in enumerate(lat):\n",
        "            coord=(lo,la)\n",
        "            d=great_circle(coord, aerocoord).km\n",
        "            if d<distmax:\n",
        "                if d>distmin:\n",
        "                    validcouple.append((i,j))\n",
        "    return validcouple\n",
        "\n",
        "def statcircle(ODavg,validcouple):\n",
        "    ODcir=[ODavg[v[1]][v[0]] for v in validcouple]\n",
        "    ODciravg=np.nanmean(ODcir)\n",
        "    ODcirstd=np.nanstd(ODcir)\n",
        "    return(ODciravg,ODcirstd)"
      ],
      "execution_count": null,
      "outputs": []
    },
    {
      "cell_type": "code",
      "metadata": {
        "id": "-Cnsv1mSGe59"
      },
      "source": [
        "filename = 'aqua_aod_ghana_avg_timev2_GB2016_land_ocean.nc'\n",
        "(ODavg,ODstd,ODday,ODdecjanfeb,ODmaraprmay,ODjunjulaug,ODsepoctnov,lat,lon,t)=opennetcdfprofiles(filename)\n",
        "lonmin=-3.25\n",
        "lonmax=1.2\n",
        "latmin=4.6\n",
        "latmax=11.2\n",
        "gridsized=0.04"
      ],
      "execution_count": null,
      "outputs": []
    },
    {
      "cell_type": "markdown",
      "metadata": {
        "id": "C95PgF9MFhOU"
      },
      "source": [
        "Average"
      ]
    },
    {
      "cell_type": "code",
      "metadata": {
        "id": "_x6fYihLSL55"
      },
      "source": [
        "fig = plt.figure(figsize=(40,30))\n",
        "ax = fig.add_subplot(111)\n",
        "m =  Basemap(projection='merc',llcrnrlat=latmin,urcrnrlat=latmax,\\\n",
        "           llcrnrlon=lonmin,urcrnrlon=lonmax,lat_ts=1,resolution='f')\n",
        "\n",
        "nx = int((m.xmax-m.xmin)/(gridsized*100000.))+1; ny = int((m.ymax-m.ymin)/(gridsized*100000.))+1\n",
        "#nx = int((m.xmax-m.xmin)/(5000.))+1; ny = int((m.ymax-m.ymin)/(5000.))+1\n",
        "CODLavgt=m.transform_scalar(ODavg,lon,lat,nx,ny)\n",
        "im=m.imshow(CODLavgt,cmap=plt.cm.YlOrRd,vmin=0,vmax=0.8,)#cmap=plt.cm.jet\n",
        "m.drawcoastlines()\n",
        "m.drawcountries(linewidth=4)\n",
        "\n",
        "kulon = -1.6163\n",
        "kulat = 6.66666\n",
        "x,y = m(kulon, kulat)\n",
        "k=m.plot(x, y, 'ko', markersize=40)\n",
        "ax.text(x+12000,y-5000,r'Kumasi', fontsize=60,color='black')\n",
        "\n",
        "Aclon=-0.1870\n",
        "Aclat=5.6037\n",
        "#5.6037° N, 0.1870° W\n",
        "x,y = m(Aclon, Aclat)\n",
        "k=m.plot(x, y, 'ko', markersize=40)\n",
        "ax.text(x+12000,y-5000,'Accra', fontsize=60,color='black')\n",
        "\n",
        "Tamlon=-0.8486\n",
        "Tamlat=9.4329\n",
        "#5.6037° N, 0.1870° W\n",
        "x,y = m(Tamlon, Tamlat)\n",
        "k=m.plot(x, y, 'ko', markersize=40)\n",
        "ax.text(x+12000,y-5000,r'Tamale', fontsize=60,color='black')\n",
        "\n",
        "aerolon=-0.30206\n",
        "aerolat=6.10941\n",
        "#5.6037° N, 0.1870° W\n",
        "x,y = m(aerolon, aerolat)\n",
        "k=m.plot(x, y, '*k', markersize=40)\n",
        "ax.text(x+12000,y-5000,r'Aeronet site', fontsize=60,color='black')\n",
        "\n",
        "\n",
        "Tarlon=-1.7831\n",
        "Tarlat=4.9016\n",
        "#5.6037° N, 0.1870° W\n",
        "x,y = m(Tarlon, Tarlat)\n",
        "k=m.plot(x, y, 'ko', markersize=40)\n",
        "ax.text(x+12000,y-5000,r'Takoradi', fontsize=60,color='black')\n",
        "\n",
        "parallels = np.arange(4,12,2)\n",
        "m.drawparallels(parallels,labels=[1,0,0,1],fontsize=30)\n",
        "meridians = np.arange(-5.,8.,2)\n",
        "m.drawmeridians(meridians,labels=[1,0,0,1],fontsize=30)\n",
        "\n",
        "##getting the limits of the map:\n",
        "x0,x1 = ax.get_xlim()\n",
        "y0,y1 = ax.get_ylim()\n",
        "map_edges = np.array([[x0,y0],[x1,y0],[x1,y1],[x0,y1]])\n",
        "\n",
        "##getting all polygons used to draw the coastlines of the map\n",
        "polys = [p.boundary for p in m.landpolygons]\n",
        "\n",
        "##combining with map edges\n",
        "polys = [map_edges]+polys[:]\n",
        "\n",
        "##creating a PathPatch\n",
        "codes = [\n",
        "    [Path.MOVETO] + [Path.LINETO for p in p[1:]]\n",
        "    for p in polys\n",
        "]\n",
        "polys_lin = [v for p in polys for v in p]\n",
        "codes_lin = [c for cs in codes for c in cs]\n",
        "path = Path(polys_lin, codes_lin)\n",
        "patch = PathPatch(path,facecolor='white', lw=0)\n",
        "\n",
        "##masking the data:\n",
        "ax.add_patch(patch)\n",
        "\n",
        "cb = m.colorbar(im,\"right\", size=\"5%\", pad='2%')\n",
        "cb.ax.set_ylabel('$AOD$',fontsize=50)\n",
        "cb.ax.tick_params(labelsize=50)\n",
        "ax.set_xlabel('$Latitude (^{o})$',fontsize=50)\n",
        "ax.set_ylabel('$Longitude (^{o})$',fontsize=50)\n",
        "ax.tick_params(axis='x', labelsize=50)\n",
        "ax.tick_params(axis='y', labelsize=50)\n",
        "ax.xaxis.labelpad = 50\n",
        "ax.yaxis.labelpad = 50\n",
        "fig.savefig('AOD_Average_2016.pdf',bbox='tight',transparent=False, format='pdf', dpi=100)"
      ],
      "execution_count": null,
      "outputs": []
    },
    {
      "cell_type": "markdown",
      "metadata": {
        "id": "-0748jARFeYL"
      },
      "source": [
        "DJF"
      ]
    },
    {
      "cell_type": "code",
      "metadata": {
        "id": "o90B1LbHaADQ"
      },
      "source": [
        "fig2=plt.figure(figsize=(40,30))\n",
        "ax2 = fig2.add_subplot(111)\n",
        "ax2.set_title('$DJF$',fontsize=80)\n",
        "m2 = Basemap(projection='merc',llcrnrlat=latmin,urcrnrlat=latmax,\\\n",
        "           llcrnrlon=lonmin,urcrnrlon=lonmax,lat_ts=1,resolution='f')\n",
        "\n",
        "nx = int((m2.xmax-m2.xmin)/(gridsized*100000.))+1; ny = int((m2.ymax-m2.ymin)/(gridsized*100000.))+1\n",
        "#nx = int((m.xmax-m.xmin)/(5000.))+1; ny = int((m.ymax-m.ymin)/(5000.))+1\n",
        "#CODLavgt=m.transform_scalar(ODnovdecjan,lon,lat,nx,ny)\n",
        "\n",
        "CODLavgt=m2.transform_scalar(ODdecjanfeb,lon,lat,nx,ny)\n",
        "im2=m2.imshow(CODLavgt,cmap=plt.cm.YlOrRd,vmin=0,vmax=1.2)\n",
        "m2.drawcoastlines()\n",
        "m2.drawcountries(linewidth=4)\n",
        "#m2.drawlsmask()\n",
        "\n",
        "kulon = -1.6163\n",
        "kulat = 6.66666\n",
        "x,y = m2(kulon, kulat)\n",
        "k=m2.plot(x, y, 'ko', markersize=40)\n",
        "ax2.text(x+12000,y-5000,r'Kumasi', fontsize=60,color='black')\n",
        "\n",
        "parallels = np.arange(4,12,2)\n",
        "m2.drawparallels(parallels,labels=[1,0,0,1],fontsize=30)\n",
        "meridians = np.arange(-5.,8.,2)\n",
        "m2.drawmeridians(meridians,labels=[1,0,0,1],fontsize=30)\n",
        "\n",
        "Aclon=-0.1870\n",
        "Aclat=5.6037\n",
        "#5.6037° N, 0.1870° W\n",
        "x,y = m2(Aclon, Aclat)\n",
        "k=m2.plot(x, y, 'ko', markersize=40)\n",
        "ax2.text(x+12000,y-5000,r'Accra', fontsize=60,color='black')\n",
        "\n",
        "#6.1725° N, 1.2314° E\n",
        "\n",
        "Tamlon=-0.8486\n",
        "Tamlat=9.4329\n",
        "#5.6037° N, 0.1870° W\n",
        "x,y = m2(Tamlon, Tamlat)\n",
        "k=m2.plot(x, y, 'ko', markersize=40)\n",
        "ax2.text(x+12000,y-5000,r'Tamale', fontsize=60,color='black')\n",
        "\n",
        "aerolon=-0.30206\n",
        "aerolat=6.10941\n",
        "#5.6037° N, 0.1870° W\n",
        "x,y = m2(aerolon, aerolat)\n",
        "k=m2.plot(x, y, '*k', markersize=40)\n",
        "ax2.text(x+12000,y-5000,r'Aeronet site', fontsize=60,color='black')\n",
        "\n",
        "\n",
        "Tarlon=-1.7831\n",
        "Tarlat=4.9016\n",
        "#5.6037° N, 0.1870° W\n",
        "x,y = m2(Tarlon, Tarlat)\n",
        "k=m2.plot(x, y, 'ko', markersize=40)\n",
        "ax2.text(x+12000,y-5000,r'Takoradi', fontsize=60,color='black')\n",
        "\n",
        "parallels = np.arange(4,12,2)\n",
        "m2.drawparallels(parallels,labels=[1,0,0,1],fontsize=30)\n",
        "meridians = np.arange(-5.,8.,2)\n",
        "m2.drawmeridians(meridians,labels=[1,0,0,1],fontsize=30)\n",
        "\n",
        "cb2 = m2.colorbar(im2,\"right\", size=\"5%\", pad='2%')\n",
        "cb2.ax.set_ylabel('$AOD$',fontsize=50)\n",
        "cb2.ax.tick_params(labelsize=50)\n",
        "ax2.set_xlabel('$Latitude (^{o})$',fontsize=50)\n",
        "ax2.set_ylabel('$Longitude (^{o})$',fontsize=50)\n",
        "ax2.tick_params(axis='x', labelsize=50)\n",
        "ax2.tick_params(axis='y', labelsize=50)\n",
        "ax2.xaxis.labelpad = 50\n",
        "ax2.yaxis.labelpad = 50\n",
        "\n",
        "##getting the limits of the map:\n",
        "x0,x1 = ax2.get_xlim()\n",
        "y0,y1 = ax2.get_ylim()\n",
        "map_edges = np.array([[x0,y0],[x1,y0],[x1,y1],[x0,y1]])\n",
        "\n",
        "##getting all polygons used to draw the coastlines of the map\n",
        "polys = [p.boundary for p in m2.landpolygons]\n",
        "\n",
        "##combining with map edges\n",
        "polys = [map_edges]+polys[:]\n",
        "\n",
        "##creating a PathPatch\n",
        "codes = [\n",
        "    [Path.MOVETO] + [Path.LINETO for p in p[1:]]\n",
        "    for p in polys\n",
        "]\n",
        "polys_lin = [v for p in polys for v in p]\n",
        "codes_lin = [c for cs in codes for c in cs]\n",
        "path = Path(polys_lin, codes_lin)\n",
        "patch = PathPatch(path,facecolor='white', lw=0)\n",
        "\n",
        "##masking the data:\n",
        "ax2.add_patch(patch)\n",
        "\n",
        "cb2 = m2.colorbar(im2,\"right\", size=\"5%\", pad='2%')\n",
        "cb2.ax.set_ylabel('$AOD$',fontsize=50)\n",
        "cb2.ax.tick_params(labelsize=50)\n",
        "ax2.set_xlabel('$Latitude (^{o})$',fontsize=50)\n",
        "ax2.set_ylabel('$Longitude (^{o})$',fontsize=50)\n",
        "ax2.tick_params(axis='x', labelsize=50)\n",
        "ax2.tick_params(axis='y', labelsize=50)\n",
        "ax2.xaxis.labelpad = 50\n",
        "ax2.yaxis.labelpad = 50\n",
        "fig2.savefig('AOD_DJF_2016_Aquaseason.pdf',bbox='tight',transparent=False, format='pdf', dpi=100)"
      ],
      "execution_count": null,
      "outputs": []
    },
    {
      "cell_type": "markdown",
      "metadata": {
        "id": "E2n0pzkhFYVF"
      },
      "source": [
        "MAM"
      ]
    },
    {
      "cell_type": "code",
      "metadata": {
        "id": "9vaKjdkeDa1L"
      },
      "source": [
        "fig3=plt.figure(figsize=(40,30))\n",
        "ax3 = fig3.add_subplot(111)\n",
        "m3 =  Basemap(projection='merc',llcrnrlat=latmin,urcrnrlat=latmax,\\\n",
        "           llcrnrlon=lonmin,urcrnrlon=lonmax,lat_ts=1,resolution='f')\n",
        "\n",
        "nx = int((m3.xmax-m3.xmin)/(gridsized*100000.))+1; ny = int((m3.ymax-m3.ymin)/(gridsized*100000.))+1\n",
        "#nx = int((m.xmax-m.xmin)/(5000.))+1; ny = int((m.ymax-m.ymin)/(5000.))+1\n",
        "\n",
        "\n",
        "CODLavgt=m3.transform_scalar(ODmaraprmay,lon,lat,nx,ny)\n",
        "#CODLavgt=m.transform_scalar(ODfebmarapr,lon,lat,nx,ny)\n",
        "im3=m3.imshow(CODLavgt,cmap=plt.cm.YlOrRd,vmin=0,vmax=1.2)\n",
        "m3.drawcoastlines()\n",
        "m3.drawcountries(linewidth=4)\n",
        "\n",
        "##getting the limits of the map:\n",
        "x0,x1 = ax2.get_xlim()\n",
        "y0,y1 = ax2.get_ylim()\n",
        "map_edges = np.array([[x0,y0],[x1,y0],[x1,y1],[x0,y1]])\n",
        "\n",
        "##getting all polygons used to draw the coastlines of the map\n",
        "polys = [p.boundary for p in m.landpolygons]\n",
        "\n",
        "##combining with map edges\n",
        "polys = [map_edges]+polys[:]\n",
        "\n",
        "##creating a PathPatch\n",
        "codes = [\n",
        "    [Path.MOVETO] + [Path.LINETO for p in p[1:]]\n",
        "    for p in polys\n",
        "]\n",
        "polys_lin = [v for p in polys for v in p]\n",
        "codes_lin = [c for cs in codes for c in cs]\n",
        "path = Path(polys_lin, codes_lin)\n",
        "patch = PathPatch(path,facecolor='white', lw=0)\n",
        "\n",
        "##masking the data:\n",
        "ax3.add_patch(patch)\n",
        "\n",
        "cb = m3.colorbar(im3,\"right\", size=\"5%\", pad='2%')\n",
        "cb.ax.set_ylabel('$AOD$',fontsize=50)\n",
        "cb.ax.tick_params(labelsize=50)\n",
        "ax3.set_xlabel('$Latitude (^{o})$',fontsize=50)\n",
        "ax3.set_ylabel('$Longitude (^{o})$',fontsize=50)\n",
        "ax3.tick_params(axis='x', labelsize=50)\n",
        "ax3.tick_params(axis='y', labelsize=50)\n",
        "ax3.xaxis.labelpad = 50\n",
        "ax3.yaxis.labelpad = 50\n",
        "kulon = -1.6163\n",
        "kulat = 6.66666\n",
        "x,y = m3(kulon, kulat)\n",
        "k=m3.plot(x, y, 'ko', markersize=40)\n",
        "ax3.text(x+12000,y-5000,r'Kumasi', fontsize=60,color='black')\n",
        "\n",
        "parallels = np.arange(4,12,2)\n",
        "m.drawparallels(parallels,labels=[1,0,0,1],fontsize=30)\n",
        "meridians = np.arange(-5.,8.,2)\n",
        "m.drawmeridians(meridians,labels=[1,0,0,1],fontsize=30)\n",
        "\n",
        "Aclon=-0.1870\n",
        "Aclat=5.6037\n",
        "#5.6037° N, 0.1870° W\n",
        "x,y = m3(Aclon, Aclat)\n",
        "k=m3.plot(x, y, 'ko', markersize=40)\n",
        "ax3.text(x+12000,y-5000,r'Accra', fontsize=60,color='black')\n",
        "\n",
        "#6.1725° N, 1.2314° E\n",
        "\n",
        "Tamlon=-0.8486\n",
        "Tamlat=9.4329\n",
        "#5.6037° N, 0.1870° W\n",
        "x,y = m3(Tamlon, Tamlat)\n",
        "k=m3.plot(x, y, 'ko', markersize=40)\n",
        "ax3.text(x+12000,y-5000,r'Tamale', fontsize=60,color='black')\n",
        "\n",
        "aerolon=-0.30206\n",
        "aerolat=6.10941\n",
        "#5.6037° N, 0.1870° W\n",
        "x,y = m3(aerolon, aerolat)\n",
        "k=m3.plot(x, y, '*k', markersize=40)\n",
        "ax3.text(x+12000,y-5000,r'Aeronet site', fontsize=60,color='black')\n",
        "\n",
        "\n",
        "\n",
        "Tarlon=-1.7831\n",
        "Tarlat=4.9016\n",
        "#5.6037° N, 0.1870° W\n",
        "x,y = m3(Tarlon, Tarlat)\n",
        "k=m3.plot(x, y, 'ko', markersize=40)\n",
        "ax3.text(x+12000,y-5000,r'Takoradi', fontsize=60,color='black')\n",
        "ax3.set_title('$MAM$',fontsize=80)\n",
        "#ax2.set_title('FMA',fontsize=80)\n",
        "\n",
        "#fig.savefig('/home/kwabena/Desktop/PhD_Publication/AOD MAM Aqua.pdf',bbox='tight',transparent=False, format='pdf', dpi=100)\n",
        "#fig.savefig('/home/kwabena/Desktop/PhD_Publication/AOD FMA Terra.pdf',bbox='tight',transparent=False, format='pdf', dpi=100)\n",
        "\n",
        "fig3.savefig('AOD_MAM_2016Aquaseason.pdf',bbox='tight',transparent=False, format='pdf', dpi=100)"
      ],
      "execution_count": null,
      "outputs": []
    },
    {
      "cell_type": "markdown",
      "metadata": {
        "id": "tdcJHc-kFVkE"
      },
      "source": [
        "JJA"
      ]
    },
    {
      "cell_type": "code",
      "metadata": {
        "id": "A-mWGLT1EX7n"
      },
      "source": [
        "fig4=plt.figure(figsize=(40,30))\n",
        "ax4 = fig4.add_subplot(111)\n",
        "m4 =  Basemap(projection='merc',llcrnrlat=latmin,urcrnrlat=latmax,\\\n",
        "           llcrnrlon=lonmin,urcrnrlon=lonmax,lat_ts=1,resolution='f')\n",
        "\n",
        "nx = int((m4.xmax-m4.xmin)/(gridsized*100000.))+1; ny = int((m4.ymax-m4.ymin)/(gridsized*100000.))+1\n",
        "\n",
        "#nx = int((m.xmax-m.xmin)/(5000.))+1; ny = int((m.ymax-m.ymin)/(5000.))+1\n",
        "#CODLavgt=m.transform_scalar(ODmayjunjul,lon,lat,nx,ny)\n",
        "CODLavgt=m4.transform_scalar(ODjunjulaug,lon,lat,nx,ny)\n",
        "im4=m4.imshow(CODLavgt,cmap=plt.cm.YlOrRd,vmin=0,vmax=1.2)\n",
        "m4.drawcoastlines()\n",
        "m4.drawcountries(linewidth=4)\n",
        "##getting the limits of the map:\n",
        "x0,x1 = ax4.get_xlim()\n",
        "y0,y1 = ax4.get_ylim()\n",
        "map_edges = np.array([[x0,y0],[x1,y0],[x1,y1],[x0,y1]])\n",
        "\n",
        "##getting all polygons used to draw the coastlines of the map\n",
        "polys = [p.boundary for p in m.landpolygons]\n",
        "\n",
        "##combining with map edges\n",
        "polys = [map_edges]+polys[:]\n",
        "\n",
        "##creating a PathPatch\n",
        "codes = [\n",
        "    [Path.MOVETO] + [Path.LINETO for p in p[1:]]\n",
        "    for p in polys\n",
        "]\n",
        "polys_lin = [v for p in polys for v in p]\n",
        "codes_lin = [c for cs in codes for c in cs]\n",
        "path = Path(polys_lin, codes_lin)\n",
        "patch = PathPatch(path,facecolor='white', lw=0)\n",
        "\n",
        "##masking the data:\n",
        "ax4.add_patch(patch)\n",
        "\n",
        "cb4 = m4.colorbar(im4,\"right\", size=\"5%\", pad='2%')\n",
        "cb4.ax.set_ylabel('$AOD$',fontsize=50)\n",
        "cb4.ax.tick_params(labelsize=50)\n",
        "ax4.set_xlabel('$Latitude (^{o})$',fontsize=50)\n",
        "ax4.set_ylabel('$Longitude (^{o})$',fontsize=50)\n",
        "ax4.tick_params(axis='x', labelsize=50)\n",
        "ax4.tick_params(axis='y', labelsize=50)\n",
        "ax4.xaxis.labelpad = 50\n",
        "ax4.yaxis.labelpad = 50\n",
        "kulon = -1.6163\n",
        "kulat = 6.66666\n",
        "x,y = m4(kulon, kulat)\n",
        "k=m4.plot(x, y, 'ko', markersize=40)\n",
        "ax4.text(x+12000,y-5000,r'Kumasi', fontsize=60,color='black')\n",
        "\n",
        "parallels = np.arange(4,12,2)\n",
        "m4.drawparallels(parallels,labels=[1,0,0,1],fontsize=30)\n",
        "meridians = np.arange(-5.,8.,2)\n",
        "m4.drawmeridians(meridians,labels=[1,0,0,1],fontsize=30)\n",
        "\n",
        "Aclon=-0.1870\n",
        "Aclat=5.6037\n",
        "#5.6037° N, 0.1870° W\n",
        "x,y = m4(Aclon, Aclat)\n",
        "k=m4.plot(x, y, 'ko', markersize=40)\n",
        "ax4.text(x+12000,y-5000,r'Accra', fontsize=60,color='black')\n",
        "\n",
        "#6.1725° N, 1.2314° E\n",
        "\n",
        "Tamlon=-0.8486\n",
        "Tamlat=9.4329\n",
        "#5.6037° N, 0.1870° W\n",
        "x,y = m(Tamlon, Tamlat)\n",
        "k=m.plot(x, y, 'ko', markersize=40)\n",
        "ax4.text(x+12000,y-5000,r'Tamale', fontsize=60,color='black')\n",
        "\n",
        "aerolon=-0.30206\n",
        "aerolat=6.10941\n",
        "#5.6037° N, 0.1870° W\n",
        "x,y = m4(aerolon, aerolat)\n",
        "k=m4.plot(x, y, '*k', markersize=40)\n",
        "ax4.text(x+12000,y-5000,r'Aeronet site', fontsize=60,color='black')\n",
        "\n",
        "\n",
        "Tarlon=-1.7831\n",
        "Tarlat=4.9016\n",
        "#5.6037° N, 0.1870° W\n",
        "x,y = m4(Tarlon, Tarlat)\n",
        "k=m4.plot(x, y, 'ko', markersize=40)\n",
        "ax4.text(x+12000,y-5000,r'Takoradi', fontsize=60,color='black')\n",
        "#ax4.set_title('MJJ',fontsize=80)\n",
        "ax4.set_title('$JJA$',fontsize=80)\n",
        "#plt.tight_layout()\n",
        "\n",
        "\n",
        "\n",
        "fig4.savefig('JJA_2016Aquaseason.pdf', bbox='tight',transparent=False, format='pdf', dpi=100)"
      ],
      "execution_count": null,
      "outputs": []
    },
    {
      "cell_type": "markdown",
      "metadata": {
        "id": "EgQAUajLFSyS"
      },
      "source": [
        "SON"
      ]
    },
    {
      "cell_type": "code",
      "metadata": {
        "id": "e0iSNrIhFDln"
      },
      "source": [
        "fig=plt.figure(figsize=(40,30))\n",
        "ax21 = fig.add_subplot(111)\n",
        "m =  Basemap(projection='merc',llcrnrlat=latmin,urcrnrlat=latmax,\\\n",
        "           llcrnrlon=lonmin,urcrnrlon=lonmax,lat_ts=1,resolution='f')\n",
        "\n",
        "nx = int((m.xmax-m.xmin)/(gridsized*100000.))+1; ny = int((m.ymax-m.ymin)/(gridsized*100000.))+1\n",
        "#nx = int((m.xmax-m.xmin)/(5000.))+1; ny = int((m.ymax-m.ymin)/(5000.))+1\n",
        "#CODLavgt=m.transform_scalar(ODaugsepoct,lon,lat,nx,ny)\n",
        "\n",
        "CODLavgt=m.transform_scalar(ODsepoctnov,lon,lat,nx,ny)\n",
        "im=m.imshow(CODLavgt,cmap=plt.cm.YlOrRd,vmin=0,vmax=1.2)\n",
        "m.drawcoastlines()\n",
        "m.drawcountries(linewidth=4)\n",
        "\n",
        "##getting the limits of the map:\n",
        "x0,x1 = ax21.get_xlim()\n",
        "y0,y1 = ax21.get_ylim()\n",
        "map_edges = np.array([[x0,y0],[x1,y0],[x1,y1],[x0,y1]])\n",
        "\n",
        "##getting all polygons used to draw the coastlines of the map\n",
        "polys = [p.boundary for p in m.landpolygons]\n",
        "\n",
        "##combining with map edges\n",
        "polys = [map_edges]+polys[:]\n",
        "\n",
        "##creating a PathPatch\n",
        "codes = [\n",
        "    [Path.MOVETO] + [Path.LINETO for p in p[1:]]\n",
        "    for p in polys\n",
        "]\n",
        "polys_lin = [v for p in polys for v in p]\n",
        "codes_lin = [c for cs in codes for c in cs]\n",
        "path = Path(polys_lin, codes_lin)\n",
        "patch = PathPatch(path,facecolor='white', lw=0)\n",
        "\n",
        "##masking the data:\n",
        "ax21.add_patch(patch)\n",
        "cb = m.colorbar(im,\"right\", size=\"5%\", pad='2%')\n",
        "cb.ax.set_ylabel('$AOD$',fontsize=50)\n",
        "cb.ax.tick_params(labelsize=50)\n",
        "ax21.set_xlabel('$Latitude (^{o})$',fontsize=50)\n",
        "ax21.set_ylabel('$Longitude (^{o})$',fontsize=50)\n",
        "ax21.tick_params(axis='x', labelsize=50)\n",
        "ax21.tick_params(axis='y', labelsize=50)\n",
        "ax21.xaxis.labelpad = 50\n",
        "ax21.yaxis.labelpad = 50\n",
        "kulon = -1.6163\n",
        "kulat = 6.66666\n",
        "x,y = m(kulon, kulat)\n",
        "k=m.plot(x, y, 'ko', markersize=40)\n",
        "ax21.text(x+12000,y-5000,r'Kumasi', fontsize=60,color='black')\n",
        "\n",
        "parallels = np.arange(4,12,2)\n",
        "m.drawparallels(parallels,labels=[1,0,0,1],fontsize=30)\n",
        "meridians = np.arange(-5.,8.,2)\n",
        "m.drawmeridians(meridians,labels=[1,0,0,1],fontsize=30)\n",
        "\n",
        "Aclon=-0.1870\n",
        "Aclat=5.6037\n",
        "#5.6037° N, 0.1870° W\n",
        "x,y = m(Aclon, Aclat)\n",
        "k=m.plot(x, y, 'ko', markersize=40)\n",
        "ax21.text(x+12000,y-5000,r'Accra', fontsize=60,color='black')\n",
        "\n",
        "#6.1725° N, 1.2314° E\n",
        "\n",
        "Tamlon=-0.8486\n",
        "Tamlat=9.4329\n",
        "#5.6037° N, 0.1870° W\n",
        "x,y = m(Tamlon, Tamlat)\n",
        "k=m.plot(x, y, 'ko', markersize=40)\n",
        "ax21.text(x+12000,y-5000,r'Tamale', fontsize=60,color='black')\n",
        "\n",
        "aerolon=-0.30206\n",
        "aerolat=6.10941\n",
        "#5.6037° N, 0.1870° W\n",
        "x,y = m(aerolon, aerolat)\n",
        "k=m.plot(x, y, '*k', markersize=40)\n",
        "ax21.text(x+12000,y-5000,r'Aeronet site', fontsize=60,color='black')\n",
        "\n",
        "\n",
        "\n",
        "Tarlon=-1.7831\n",
        "Tarlat=4.9016\n",
        "#5.6037° N, 0.1870° W\n",
        "x,y = m(Tarlon, Tarlat)\n",
        "k=m.plot(x, y, 'ko', markersize=40)\n",
        "ax21.text(x+12000,y-5000,r'Takoradi', fontsize=60,color='black')\n",
        "#ax21.set_title('ASO',fontsize=80)\n",
        "ax21.set_title('$SON$',fontsize=80)\n",
        "\n",
        "#fig.savefig('/home/kwabena/Desktop/PhD_Publication/ASO Aqua.pdf',bbox='tight',transparent=False, format='pdf', dpi=100)\n",
        "#fig.savefig('/home/kwabena/Desktop/PhD_Publication/ASO Terra.pdf',bbox='tight',transparent=False, format='pdf', dpi=100)\n",
        "\n",
        "fig.savefig('SON_2016Aquaseason.pdf',bbox='tight',transparent=False, format='pdf', dpi=100)"
      ],
      "execution_count": null,
      "outputs": []
    },
    {
      "cell_type": "markdown",
      "metadata": {
        "id": "zzwEnaNfF12j"
      },
      "source": [
        "AOD circle stats"
      ]
    },
    {
      "cell_type": "code",
      "metadata": {
        "id": "Pq1VK6MgFoXU"
      },
      "source": [
        "Aclon=-0.1870\n",
        "Aclat=5.6037\n",
        "ODAc,lonAc,latAc=cityextraction(ODavg,lat,lon,1,Aclat,Aclon)\n",
        "validcouple=distancekl(lon,lat,0,25,Aclon,Aclat)\n",
        "(ODcirAcavg25,ODcirAcstd25)=statcircle(ODavg,validcouple)\n",
        "\n",
        "validcouple=distancekl(lon,lat,25,50,Aclon,Aclat)\n",
        "(ODcirAcavg50,ODcirAcstd50)=statcircle(ODavg,validcouple)\n",
        "\n",
        "validcouple=distancekl(lon,lat,50,75,Aclon,Aclat)\n",
        "(ODcirAcavg75,ODcirAcstd75)=statcircle(ODavg,validcouple)\n",
        "\n",
        "\n",
        "Tamlon=-0.8486\n",
        "Tamlat=9.4329\n",
        "ODTam,lonTam,latTam=cityextraction(ODavg,lat,lon,1,Tamlat,Tamlon)\n",
        "validcouple=distancekl(lon,lat,0,25,Tamlon,Tamlat)\n",
        "(ODcirTamavg25,ODcirTamstd25)=statcircle(ODavg,validcouple)\n",
        "\n",
        "validcouple=distancekl(lon,lat,25,50,Tamlon,Tamlat)\n",
        "(ODcirTamavg50,ODcirTamstd50)=statcircle(ODavg,validcouple)\n",
        "\n",
        "validcouple=distancekl(lon,lat,50,75,Tamlon,Tamlat)\n",
        "(ODcirTamavg75,ODcirTamstd75)=statcircle(ODavg,validcouple)\n",
        "\n",
        "\n",
        "\n",
        "Tarlon=-1.7831\n",
        "Tarlat=4.9016\n",
        "ODTar,lonTar,latTar=cityextraction(ODavg,lat,lon,1,Tarlat,Tarlon)\n",
        "validcouple=distancekl(lon,lat,0,25,Tarlon,Tarlat)\n",
        "(ODcirTaravg25,ODcirTarstd25)=statcircle(ODavg,validcouple)\n",
        "\n",
        "validcouple=distancekl(lon,lat,25,50,Tarlon,Tarlat)\n",
        "(ODcirTaravg50,ODcirTarstd50)=statcircle(ODavg,validcouple)\n",
        "\n",
        "validcouple=distancekl(lon,lat,50,75,Tarlon,Tarlat)\n",
        "(ODcirTaravg75,ODcirTarstd75)=statcircle(ODavg,validcouple)\n",
        "\n",
        "#\n",
        "kulon = -1.5601\n",
        "kulat = 6.6796\n",
        "ODku,lonku,latku=cityextraction(ODavg,lat,lon,1,kulat,kulon)\n",
        "validcouple=distancekl(lon,lat,0,25,Tarlon,Tarlat)\n",
        "(ODcirkuavg25,ODcirkustd25)=statcircle(ODavg,validcouple)\n",
        "\n",
        "validcouple=distancekl(lon,lat,25,50,kulon,kulat)\n",
        "(ODcirkuavg50,ODcirkustd50)=statcircle(ODavg,validcouple)\n",
        "\n",
        "validcouple=distancekl(lon,lat,50,75,kulon,kulat)\n",
        "(ODcirkuavg75,ODcirkustd75)=statcircle(ODavg,validcouple)"
      ],
      "execution_count": null,
      "outputs": []
    },
    {
      "cell_type": "code",
      "metadata": {
        "id": "esE1TtCZGBgl"
      },
      "source": [
        "thefile = open('aod_circle_stats_Terra2016season.txt', 'w')\n",
        "# thefile = open('/home/kwabena/Desktop/aod_circle_stats Terraseason.txt', 'w')\n",
        "thefile.write(\"city; 25 avg ; 25 std ; 50 avg; 50 std; 75 avg ;\\n\")\n",
        "#thefile.write(\"Aeronet; %f ; %f ; %f ; %f ; %f ; %f ;\\n\" % (ODciraeroavg25,ODciraerostd25,ODciraeroavg50,ODciraerostd50,ODciraeroavg75,ODciraerostd75))\n",
        "#thefile.write(\"Sunyani; %f ; %f ; %f ; %f ; %f ; %f ;\\n\" % (ODcirSunyavg25,ODcirSunystd25,ODcirSunyavg50,ODcirSunystd50,ODcirSunyavg75,ODcirSunystd75))\n",
        "thefile.write(\"Accra; %f ; %f ; %f ; %f ; %f ; %f ;\\n\" % (ODcirAcavg25,ODcirAcstd25,ODcirAcavg50,ODcirAcstd50,ODcirAcavg75,ODcirAcstd75))\n",
        "thefile.write(\"Tamale; %f ; %f ; %f ; %f ; %f ; %f ;\\n\" % (ODcirTamavg25,ODcirTamstd25,ODcirTamavg50,ODcirTamstd50,ODcirTamavg75,ODcirTamstd75))\n",
        "thefile.write(\"Takoradi; %f ; %f ; %f ; %f ; %f ; %f ;\\n\" % (ODcirTaravg25,ODcirTarstd25,ODcirTaravg50,ODcirTarstd50,ODcirTaravg75,ODcirTarstd75))\n",
        "thefile.write(\"Kumasi; %f ; %f ; %f ; %f ; %f ; %f ;\\n\" % (ODcirkuavg25,ODcirkustd25,ODcirkuavg50,ODcirkustd50,ODcirkuavg75,ODcirkustd75))\n",
        "thefile.close()"
      ],
      "execution_count": null,
      "outputs": []
    },
    {
      "cell_type": "markdown",
      "metadata": {
        "id": "864_LxdsKIwV"
      },
      "source": [
        "Kumasi local map"
      ]
    },
    {
      "cell_type": "code",
      "metadata": {
        "id": "uyed5eDIGOGy"
      },
      "source": [
        "fig= plt.figure(figsize=(40,30))\n",
        "ax12=fig.add_subplot(111)\n",
        "ax12.set_title('$Kumasi$',fontsize=120)\n",
        "m =  Basemap(projection='merc',llcrnrlat=kulat-1,urcrnrlat=kulat+1,\\\n",
        "           llcrnrlon=kulon-1,urcrnrlon=kulon+1,lat_ts=1,resolution='f')\n",
        "\n",
        "nx = int((m.xmax-m.xmin)/(0.04*100000.))+1; ny = int((m.ymax-m.ymin)/(0.04*100000.))+1\n",
        "ODkut=m.transform_scalar(ODku,lonku,latku,nx,ny)\n",
        "im=m.imshow(ODkut,cmap=plt.cm.YlOrRd,vmin=0,vmax=0.8)\n",
        "cb = m.colorbar(im,\"right\", size=\"5%\", pad='2%')\n",
        "# m.drawcoastlines()\n",
        "# try:\n",
        "#     m.drawcoastlines()#(linewidth=0.5)\n",
        "# except:\n",
        "#     pass\n",
        "m.drawcountries()\n",
        "m.drawcountries()\n",
        "cb.ax.set_ylabel('$AOD$',fontsize=100)\n",
        "cb.ax.tick_params(labelsize=80)\n",
        "m.drawcoastlines()\n",
        "m.drawcountries()\n",
        "X,Y=equi(m, kulon, kulat, 75)\n",
        "ax12.plot(X,Y,'k',Markersize=25)\n",
        "X,Y=equi(m, kulon, kulat, 50)\n",
        "ax12.plot(X,Y,'k',Markersize=25)\n",
        "X,Y=equi(m, kulon, kulat, 25)\n",
        "ax12.plot(X,Y,'k',Markersize=25)\n",
        "x,y = m(kulon,kulat)\n",
        "ax12.plot(x,y,'*k',Markersize=40)\n",
        "#I think it's aqua??\n",
        "fig.savefig('Average_AOD_over_Kumasi_aqua2016season.pdf', bbox='tight',transparent=False, format='pdf', dpi=100)"
      ],
      "execution_count": null,
      "outputs": []
    },
    {
      "cell_type": "markdown",
      "metadata": {
        "id": "s2ECs5KmKGS4"
      },
      "source": [
        "Takoradi local map"
      ]
    },
    {
      "cell_type": "code",
      "metadata": {
        "id": "15Q7ydCUHBAl"
      },
      "source": [
        "fig= plt.figure(figsize=(40,30))\n",
        "ax13=fig.add_subplot(111)\n",
        "ax13.set_title('$Takoradi$',fontsize=120)\n",
        "m =  Basemap(projection='merc',llcrnrlat=Tarlat-1,urcrnrlat=Tarlat+1,\\\n",
        "            llcrnrlon=Tarlon-1,urcrnrlon=Tarlon+1,lat_ts=1,resolution='f')\n",
        "\n",
        "nx = int((m.xmax-m.xmin)/(0.04*100000.))+1; ny = int((m.ymax-m.ymin)/(0.04*100000.))+1\n",
        "ODTart=m.transform_scalar(ODTar,lonTar,latTar,nx,ny)\n",
        "im=m.imshow(ODTart,cmap=plt.cm.YlOrRd,vmin=0,vmax=0.8)\n",
        "cb = m.colorbar(im,\"right\", size=\"5%\", pad='2%')\n",
        "m.drawcoastlines()\n",
        "# try:\n",
        "#     m.drawcoastlines()#(linewidth=0.5)\n",
        "# except:\n",
        "#     pass\n",
        "# m.drawcountries()\n",
        "\n",
        "##getting all polygons used to draw the coastlines of the map\n",
        "polys = [p.boundary for p in m.landpolygons]\n",
        "\n",
        "##combining with map edges\n",
        "polys = [map_edges]+polys[:]\n",
        "\n",
        "##creating a PathPatch\n",
        "codes = [\n",
        "    [Path.MOVETO] + [Path.LINETO for p in p[1:]]\n",
        "    for p in polys\n",
        "]\n",
        "polys_lin = [v for p in polys for v in p]\n",
        "codes_lin = [c for cs in codes for c in cs]\n",
        "path = Path(polys_lin, codes_lin)\n",
        "patch = PathPatch(path,facecolor='white', lw=0)\n",
        "\n",
        "##masking the data:\n",
        "ax13.add_patch(patch)\n",
        "cb.ax.set_ylabel('$AOD$',fontsize=100)\n",
        "cb.ax.tick_params(labelsize=80)\n",
        "m.drawcoastlines()\n",
        "# try:\n",
        "#     m.drawcoastlines()#(linewidth=0.5)\n",
        "# except:\n",
        "#     pass\n",
        "m.drawcountries()\n",
        "X,Y=equi(m, Tarlon, Tarlat, 75)\n",
        "ax13.plot(X,Y,'k',Markersize=25)\n",
        "X,Y=equi(m, Tarlon, Tarlat, 50)\n",
        "ax13.plot(X,Y,'k',Markersize=25)\n",
        "X,Y=equi(m, Tarlon, Tarlat, 25)\n",
        "ax13.plot(X,Y,'k',Markersize=25)\n",
        "x,y = m(Tarlon,Tarlat)\n",
        "ax13.plot(x,y,'*k',Markersize=40)\n",
        "fig.savefig('Average_AOD_over_Takoradi_2016Aqua.pdf', bbox_inches='tight',transparent=True, dpi=100)"
      ],
      "execution_count": null,
      "outputs": []
    },
    {
      "cell_type": "markdown",
      "metadata": {
        "id": "xfWvjAbIK8N5"
      },
      "source": [
        "Tamale"
      ]
    },
    {
      "cell_type": "code",
      "metadata": {
        "id": "NwOFNNHNKFNK"
      },
      "source": [
        "fig= plt.figure(figsize=(40,30))\n",
        "ax14=fig.add_subplot(111)\n",
        "ax14.set_title('$Tamale$',fontsize=120)\n",
        "m =  Basemap(projection='merc',llcrnrlat=Tamlat-1,urcrnrlat=Tamlat+1,\\\n",
        "            llcrnrlon=Tamlon-1,urcrnrlon=Tamlon+1,lat_ts=1,resolution='f')\n",
        "\n",
        "nx = int((m.xmax-m.xmin)/(0.04*100000.))+1; ny = int((m.ymax-m.ymin)/(0.04*100000.))+1\n",
        "ODTamt=m.transform_scalar(ODTam,lonTam,latTam,nx,ny)\n",
        "im=m.imshow(ODTamt,cmap=plt.cm.YlOrRd,vmin=0,vmax=0.8)\n",
        "cb = m.colorbar(im,\"right\", size=\"5%\", pad='2%')\n",
        "m.drawcoastlines()\n",
        "# try:\n",
        "#     m.drawcoastlines()#(linewidth=0.5)\n",
        "# except:\n",
        "#     pass\n",
        "m.drawcountries()\n",
        "cb.ax.set_ylabel('$AOD$',fontsize=100)\n",
        "cb.ax.tick_params(labelsize=80)\n",
        "# # try:\n",
        "# #     m.drawcoastlines()#(linewidth=0.5)\n",
        "# # except:\n",
        "# #     pass\n",
        "# m.drawcoastlines()\n",
        "m.drawcountries()\n",
        "m.drawcountries()\n",
        "X,Y=equi(m, Tamlon, Tamlat, 75)\n",
        "ax14.plot(X,Y,'k',Markersize=25)\n",
        "X,Y=equi(m, Tamlon, Tamlat, 50)\n",
        "ax14.plot(X,Y,'k',Markersize=25)\n",
        "X,Y=equi(m, Tamlon, Tamlat, 25)\n",
        "ax14.plot(X,Y,'k',Markersize=25)\n",
        "x,y = m(Tamlon,Tamlat)\n",
        "ax14.plot(x,y,'*k',Markersize=40)\n",
        "fig.savefig('Average_AOD_over_Tamale_2016Aqua.pdf', bbox_inches='tight',transparent=True, dpi=100)"
      ],
      "execution_count": null,
      "outputs": []
    },
    {
      "cell_type": "code",
      "metadata": {
        "id": "AczJi5UmLCtl"
      },
      "source": [
        "fig= plt.figure(figsize=(40,30))\n",
        "ax15=fig.add_subplot(111)\n",
        "ax15.set_title('$Accra$',fontsize=120)\n",
        "m =  Basemap(projection='merc',llcrnrlat=Aclat-1,urcrnrlat=Aclat+1,\\\n",
        "            llcrnrlon=Aclon-1,urcrnrlon=Aclon+1,lat_ts=1,resolution='f')\n",
        "\n",
        "nx = int((m.xmax-m.xmin)/(0.04*100000.))+1; ny = int((m.ymax-m.ymin)/(0.04*100000.))+1\n",
        "ODAct=m.transform_scalar(ODAc,lonAc,latAc,nx,ny)\n",
        "im=m.imshow(ODAc,cmap=plt.cm.YlOrRd,vmin=0,vmax=0.8)\n",
        "cb = m.colorbar(im,\"right\", size=\"5%\", pad='2%')\n",
        "m.drawcoastlines()\n",
        "m.drawcountries()\n",
        "##getting the limits of the map:\n",
        "x0,x1 = ax15.get_xlim()\n",
        "y0,y1 = ax15.get_ylim()\n",
        "map_edges = np.array([[x0,y0],[x1,y0],[x1,y1],[x0,y1]])\n",
        "\n",
        "##getting all polygons used to draw the coastlines of the map\n",
        "polys = [p.boundary for p in m.landpolygons]\n",
        "\n",
        "##combining with map edges\n",
        "polys = [map_edges]+polys[:]\n",
        "\n",
        "##creating a PathPatch\n",
        "codes = [\n",
        "    [Path.MOVETO] + [Path.LINETO for p in p[1:]]\n",
        "    for p in polys\n",
        "]\n",
        "polys_lin = [v for p in polys for v in p]\n",
        "codes_lin = [c for cs in codes for c in cs]\n",
        "path = Path(polys_lin, codes_lin)\n",
        "patch = PathPatch(path,facecolor='white', lw=0)\n",
        "\n",
        "##masking the data:\n",
        "ax15.add_patch(patch)\n",
        "cb.ax.set_ylabel('$AOD$',fontsize=100)\n",
        "cb.ax.tick_params(labelsize=80)\n",
        "# # try:\n",
        "# #     m.drawcoastlines()#(linewidth=0.5)\n",
        "# # except:\n",
        "# #     pass\n",
        "# m.drawcoastlines()\n",
        "m.drawcountries()\n",
        "m.drawcountries()\n",
        "X,Y=equi(m, Aclon, Aclat, 75)\n",
        "ax15.plot(X,Y,'k',Markersize=25)\n",
        "X,Y=equi(m, Aclon, Aclat, 50)\n",
        "ax15.plot(X,Y,'k',Markersize=25)\n",
        "X,Y=equi(m, Aclon, Aclat, 25)\n",
        "ax15.plot(X,Y,'k',Markersize=25)\n",
        "x,y = m(Aclon,Aclat)\n",
        "ax15.plot(x,y,'*k',Markersize=40)\n",
        "fig.savefig('Average_AOD_over_Accra_2016Aqua.png', bbox='tight',transparent=False, format='pdf', dpi=100)"
      ],
      "execution_count": null,
      "outputs": []
    },
    {
      "cell_type": "markdown",
      "metadata": {
        "id": "HjyEc1X0M1WK"
      },
      "source": [
        "Not sure what you wanted to plot here"
      ]
    },
    {
      "cell_type": "code",
      "metadata": {
        "id": "7pV9nkZ-L3Ai"
      },
      "source": [
        "ds = xr.open_dataset(filename)\n",
        "ds['optical_depth_avg'].plot()\n"
      ],
      "execution_count": null,
      "outputs": []
    },
    {
      "cell_type": "markdown",
      "metadata": {
        "id": "s22oaaUW8Ysi"
      },
      "source": [
        "# PhD_Aeronet_sat_time.py"
      ]
    },
    {
      "cell_type": "code",
      "metadata": {
        "id": "Pnm3uCoDKB5M"
      },
      "source": [
        "from pyhdf.SD import SD, SDC\n",
        "import numpy as np\n",
        "import matplotlib.pyplot as plt\n",
        "import os\n",
        "\n",
        "\n",
        "\n",
        "def get_filepaths(directory,string):\n",
        "\n",
        "    file_paths = []  # List which will store all of the full filepaths.\n",
        "\n",
        "    # Walk the tree.\n",
        "    for root, directories, files in os.walk(directory):\n",
        "        for filename in files:\n",
        "            # Join the two strings in order to form the full filepath.\n",
        "            filepath = os.path.join(root, filename)\n",
        "            if string in filepath:\n",
        "                file_paths.append(filepath)  # Add it to the list.\n",
        "\n",
        "    return file_paths\n",
        "\n",
        "def getdataset(fn):\n",
        "    f = SD(fn, SDC.READ)\n",
        "\n",
        "\n",
        "    datasets_dic = f.datasets()\n",
        "\n",
        "\n",
        "    return f,datasets_dic\n",
        "\n",
        "def getdata(f,varname):\n",
        "    sds_obj = f.select(varname) #select sds\n",
        "    data = sds_obj.get() #get sds data\n",
        "    for key, value in sds_obj.attributes().items():\n",
        "\n",
        "        if key == 'add_offset':\n",
        "            add_offset = value\n",
        "        if key == 'scale_factor':\n",
        "            scale_factor = value\n",
        "    data = (data - add_offset) * scale_factor #correct the offset scale factor\n",
        "\n",
        "    return data\n",
        "\n",
        "\n",
        "def selectvar(fn,lat,lon):\n",
        "    f,datasets_dic = getdataset(fn)\n",
        "    longitude=getdata(f,'Longitude')\n",
        "    latitude=getdata(f,'Latitude')\n",
        "    temps=getdata(f,'Scan_Start_Time' )\n",
        "    CODL=getdata(f,'Corrected_Optical_Depth_Land_wav2p1')#'Optical_Depth_Land_And_Ocean')\n",
        "#    Thorizontal=Temperature[0,:,:]\n",
        "    n=np.where(CODL==np.min(CODL))\n",
        "    latitude[n]=-500\n",
        "    longitude[n]=-500\n",
        "    nonvalid=0\n",
        "    a=np.where(np.abs(lat-latitude)<0.04)\n",
        "    if len(a[0])>0:\n",
        "        b=np.where(np.abs(lon-longitude[a])<0.04)\n",
        "        if len(b[0])>0:\n",
        "            indlat=a[0][b[0]][0]\n",
        "            indlon=a[1][b[0]][0]\n",
        "            LAT=latitude[indlat,indlon]\n",
        "            LON=longitude[indlat,indlon]\n",
        "            t=temps[indlat,indlon]\n",
        "#            plt.figure()\n",
        "#            plt.plot(longitude[longitude>-500],latitude[longitude>-500])\n",
        "#            plt.plot(lon,lat,'.b')\n",
        "#            plt.plot(LON,LAT,'.r')\n",
        "#            plt.title('0')\n",
        "\n",
        "        else:\n",
        "            nonvalid=2\n",
        "            LAT=np.nan\n",
        "            LON=np.nan\n",
        "            indlat=np.nan\n",
        "            indlon=np.nan\n",
        "            t=np.nan\n",
        "#            plt.figure()\n",
        "#            plt.plot(longitude[longitude>-500],latitude[longitude>-500])\n",
        "#            plt.plot(lon,lat,'.b')\n",
        "#            plt.title('2')\n",
        "\n",
        "\n",
        "\n",
        "    else:\n",
        "        nonvalid=3\n",
        "        LAT=np.nan\n",
        "        LON=np.nan\n",
        "        indlat=np.nan\n",
        "        indlon=np.nan\n",
        "        t=np.nan\n",
        "#        plt.figure()\n",
        "#        plt.plot(longitude[longitude>-500],latitude[longitude>-500])\n",
        "#        plt.plot(lon,lat,'.b')\n",
        "#        plt.title('3')\n",
        "\n",
        "\n",
        "\n",
        "\n",
        "\n",
        "\n",
        "    return (t,nonvalid,indlat,indlon)\n"
      ],
      "execution_count": null,
      "outputs": []
    },
    {
      "cell_type": "code",
      "metadata": {
        "id": "MUZ4MSaqOCzM"
      },
      "source": [
        "directory='MYD0_2016'\n",
        "filepath=get_filepaths(directory,'.hdf')\n",
        "np.sort(filepath, axis=-1, kind='quicksort', order=None)"
      ],
      "execution_count": null,
      "outputs": []
    },
    {
      "cell_type": "code",
      "metadata": {
        "id": "Vu9DThQi9v8A"
      },
      "source": [
        "aerolon=-0.30206\n",
        "aerolat=6.10941\n",
        "altitudemax=100000\n",
        "altitudemin=0\n",
        "validlist=[]\n",
        "validtime=[]\n",
        "indlonlist=[]\n",
        "indlatlist=[]\n",
        "for n,fn in enumerate(filepath):\n",
        "    (t,nonvalid,indlat,indlon)=selectvar(fn,aerolat,aerolon)\n",
        "    if nonvalid==0:\n",
        "        validlist.append(fn)\n",
        "        validtime.append(t)\n",
        "        indlonlist.append(indlon)\n",
        "        indlatlist.append(indlat)\n",
        "\n",
        "# thefile = open('/media/kwabena/Son_of_Man2/MYDO_3K_15_17/validfilelistaeronet_aqua.txt', 'w')\n",
        "# thefile = open('/media/kwabena/Son_of_Man2/MOD0_3K_15_18/validfilelistaeronet_terra.txt', 'w')\n",
        "# thefile = open('/media/kwabena/Son_of_Man2/MYDO_3K_15_17/validfilelistaeronet_aqualand.txt', 'w')\n",
        "thefile = open('validfilelistaeronet_aqua2016land.txt', 'w')\n",
        "for n,item in enumerate(validlist):\n",
        "    thefile.write(\"%s;%f;%f;%f;\\n\" % (item,validtime[n],indlatlist[n],indlonlist[n]))\n",
        "thefile.close()"
      ],
      "execution_count": null,
      "outputs": []
    },
    {
      "cell_type": "markdown",
      "metadata": {
        "id": "qhcW4Dx6O8kw"
      },
      "source": [
        "# PHD_aeronet.py"
      ]
    },
    {
      "cell_type": "code",
      "metadata": {
        "id": "aATO-6v8PITR"
      },
      "source": [
        "from pyhdf.SD import SD, SDC\n",
        "from matplotlib import rc, rcParams\n",
        "import numpy as np\n",
        "#from osgeo import gdal\n",
        "import matplotlib.pyplot as plt\n",
        "import os\n",
        "#from sklearn.utils import check_arrays\n",
        "import matplotlib.dates as dates\n",
        "from datetime import datetime, timedelta\n",
        "from netCDF4 import Dataset, num2date, date2num\n",
        "import pandas as pd\n",
        "from math import sqrt\n",
        "\n",
        "#from sklearn.metrics import mean_squared_error\n",
        "\n",
        "\n",
        "def get_filepaths(directory):\n",
        "\n",
        "    file_paths = []  # List which will store all of the full filepaths.\n",
        "\n",
        "    # Walk the tree.\n",
        "    for root, directories, files in os.walk(directory):\n",
        "        for filename in files:\n",
        "            # Join the two strings in order to form the full filepath.\n",
        "            filepath = os.path.join(root, filename)\n",
        "            file_paths.append(filepath)  # Add it to the list.\n",
        "\n",
        "    return file_paths\n",
        "\n",
        "def valueslist(splitlist,c):\n",
        "    listnew=[]\n",
        "    for sp in splitlist :\n",
        "        ok=0\n",
        "        for s in sp:\n",
        "            if s.startswith(c):\n",
        "                ok=1\n",
        "                if s.endswith(\"\\n\"):\n",
        "                    listnew.append(s[len(c):len(s)-2])\n",
        "                else:\n",
        "                    listnew.append(s[len(c):len(s)])\n",
        "        if ok==0:\n",
        "            listnew.append(\"NaN\")\n",
        "\n",
        "\n",
        "    return listnew\n",
        "\n",
        "\n",
        "\n",
        "\n",
        "def extract_splitlist(filename):\n",
        "    f=open(filename,'r')\n",
        "#saves line containing the meteorological datas\n",
        "    savedline=[]\n",
        "    for line in f:\n",
        "            savedline.append(line)\n",
        "    splitlist = [c.split(';') for  c in savedline]\n",
        "    return (splitlist)\n",
        "\n",
        "\n",
        "\n",
        "def satellitecorresp(limitiop,temps):\n",
        "    satelliteok=[]\n",
        "    temps=temps[1:len(temps)]\n",
        "    for j in range(0,len(limitiop),2):\n",
        "        a=np.where(limitiop[j]<temps)\n",
        "        b=np.where(limitiop[j+1]>temps)\n",
        "        if ((len(a)>0) and (len(b)>0)):\n",
        "            if np.max(b)==np.min(a):\n",
        "                satelliteok.append(np.min(a)+1)\n",
        "    return(satelliteok)\n",
        "\n",
        "def read_aeronet(filename):\n",
        "    \"\"\"Read a given AERONET AOT data file, and return it as a dataframe.\n",
        "\n",
        "    This returns a DataFrame containing the AERONET data, with the index\n",
        "    set to the timestamp of the AERONET observations. Rows or columns\n",
        "    consisting entirely of missing data are removed. All other columns\n",
        "    are left as-is.\n",
        "    \"\"\"\n",
        "    if filename.endswith('lev20'):\n",
        "        skip=6\n",
        "    elif filename.endswith('tot_lev20'):#elif filename.endswith('tot20')\n",
        "        skip=6\n",
        "    elif filename.endswith('ONEILL_lev20'): #elif filename.endswith('ONEILL_20')\n",
        "        skip=6\n",
        "\n",
        "    dateparse = lambda x: pd.datetime.strptime(x, \"%d:%m:%Y %H:%M:%S\")\n",
        "    aeronet = pd.read_csv(filename, skiprows=skip, na_values=['N/A'],\n",
        "                          parse_dates={'times':[0,1]},\n",
        "                          date_parser=dateparse)\n",
        "\n",
        "    aeronet = aeronet.set_index('times')\n",
        "    # del aeronet['Julian_Day']\n",
        "\n",
        "    # Drop any rows that are all NaN and any cols that are all NaN\n",
        "    # & then sort by the index\n",
        "    an = (aeronet.dropna(axis=1, how='all')\n",
        "                .dropna(axis=0, how='all')\n",
        "                .rename(columns={'Last_Processing_Date(dd/mm/yyyy)': 'Last_Processing_Date'})\n",
        "                .sort_index())\n",
        "\n",
        "    return an\n",
        "\n",
        "def aeronetsatcor(splitlist,tt,varname):\n",
        "    temps=[np.float(sp[1])/(24*3600)+dates.datestr2num('1993-01-01 00:00:00') for sp in splitlist]\n",
        "    timenum=[]\n",
        "    for i in range(0,len(tt)):\n",
        "            t=np.datetime64(tot.index[i]).astype(datetime)\n",
        "            a=np.datetime64(tot.index[i]).astype(datetime)\n",
        "            timenum.append(dates.datestr2num(('%i-%i-%i %i:%i:%i' %(a.year,a.month,a.day,a.hour,a.minute,a.second))))\n",
        "    timenum=np.array(timenum)\n",
        "    varaero=[]\n",
        "    validtime=[]\n",
        "    for i,t in enumerate(temps):\n",
        "        a=np.argmin(np.abs(t-timenum))\n",
        "        if timenum[a]>t:\n",
        "            b=a-1\n",
        "        else:\n",
        "            b=a+1\n",
        "\n",
        "        if np.abs(timenum[a]-timenum[b])<30./(24*60):\n",
        "\n",
        "            wa=np.abs(tt[varname][a]-tt[varname][b])-np.abs(tt[varname][a]-t)/np.abs(tt[varname][a]-tt[varname][b])\n",
        "            wb=np.abs(tt[varname][a]-tt[varname][b])-np.abs(tt[varname][b]-t)/np.abs(tt[varname][a]-tt[varname][b])\n",
        "            v=wa*tt[varname][a]+wb*tt[varname][b]\n",
        "            varaero.append(a)\n",
        "            validtime.append(i)\n",
        "    varaero=np.array(varaero)\n",
        "    return (varaero,validtime)\n",
        "\n",
        "def getdataset(fn):\n",
        "    f = SD(fn, SDC.READ)\n",
        "\n",
        "    datasets_dic = f.datasets()\n",
        "\n",
        "\n",
        "    return f,datasets_dic\n",
        "\n",
        "def getdata(f,varname):\n",
        "    sds_obj = f.select(varname) #select sds\n",
        "    data = sds_obj.get() #get sds data\n",
        "    for key, value in sds_obj.attributes().items():\n",
        "\n",
        "        if key == 'add_offset':\n",
        "            add_offset = value\n",
        "        if key == 'scale_factor':\n",
        "            scale_factor = value\n",
        "    data = (data - add_offset) * scale_factor #correct the offset scale factor\n",
        "\n",
        "    return data\n",
        "\n",
        "def selectvar(fn):\n",
        "    f,datasets_dic = getdataset(fn)\n",
        "    ACFL=getdata(f,'Aerosol_Cloud_Fraction_Land')\n",
        "    ACFO=getdata(f,'Aerosol_Cloud_Fraction_Ocean')\n",
        "    longitude=getdata(f,'Longitude')\n",
        "    latitude=getdata(f,'Latitude')\n",
        "    CODL=getdata(f,'Corrected_Optical_Depth_Land_wav2p1')#'Optical_Depth_Land_And_Ocean') #Corrected_Optical_Depth_Land_wav2p1'Optical_Depth_Land_And_Ocean)\n",
        "    temps=getdata(f,'Scan_Start_Time' )\n",
        "\n",
        "\n",
        "\n",
        "    #    n=np.where(CODL==np.min(CODL))\n",
        "    #    latitude[n]=-500\n",
        "    #    longitude[n]=-500\n",
        "    #    nonvalid=0\n",
        "\n",
        "    return (CODL,longitude,latitude,temps)\n",
        "\n",
        "\n",
        "def regrid(lonmin,lonmax,latmin,latmax,grids,data,latitude,longitude):\n",
        "\n",
        "    lat=np.arange(latmin,latmax,grids)\n",
        "    lon=np.arange(lonmin,lonmax,grids)\n",
        "    n=np.where(data==np.min(data))\n",
        "    latitude[n]=-500\n",
        "    longitude[n]=-500\n",
        "    datan=np.zeros((len(lat),len(lon)))*np.nan\n",
        "    for i,la in enumerate(lat):\n",
        "        a=np.where(np.abs(la-latitude)<grids+0.01)\n",
        "        if len(a[0])>0:\n",
        "            for j,lo in enumerate(lon):\n",
        "                b=np.where(np.abs(lo-longitude[a])<grids+0.01)\n",
        "                if len(b[0])>0:\n",
        "                    indlat=a[0][b[0]][0]\n",
        "                    indlon=a[1][b[0]][0]\n",
        "                    datan[i][j]=data[indlat][indlon]\n",
        "\n",
        "    return(datan,lat,lon)\n",
        "\n",
        "def findsatNSEW(CODLn,lat,lon,aerolat,aerolon):\n",
        "    indlatc=np.argmin(np.abs(aerolat-lat))\n",
        "    indlonc=np.argmin(np.abs(aerolon-lon))\n",
        "    CODLC=CODLn[indlatc][indlonc]\n",
        "    CODLN=CODLn[indlatc+1][indlonc]\n",
        "    CODLS=CODLn[indlatc-1][indlonc]\n",
        "    CODLW=CODLn[indlatc][indlonc-1]\n",
        "    CODLE=CODLn[indlatc][indlonc+1]\n",
        "\n",
        "    return(CODLC,CODLN,CODLS,CODLW,CODLE)\n",
        "\n",
        "####### Linear regression example\n",
        "\n",
        "# Calculate root mean squared error\n",
        "def rmse_metric(actual, predicted):\n",
        "\tsum_error = 0.0\n",
        "\tfor i in range(len(actual)):\n",
        "\t\tprediction_error = predicted[i] - actual[i]\n",
        "\t\tsum_error += (prediction_error ** 2)\n",
        "\tmean_error = sum_error / float(len(actual))\n",
        "\treturn sqrt(mean_error)\n",
        "\n",
        "# Evaluate regression algorithm on training dataset\n",
        "def evaluate_algorithm(dataset, algorithm):\n",
        "\ttest_set = list()\n",
        "\tfor row in dataset:\n",
        "\t\trow_copy = list(row)\n",
        "\t\trow_copy[-1] = None\n",
        "\t\ttest_set.append(row_copy)\n",
        "\tpredicted, b0, b1 = algorithm(dataset, test_set)\n",
        "#\tprint(predicted)\n",
        "\tactual = [row[-1] for row in dataset]\n",
        "\trmse = rmse_metric(actual, predicted)\n",
        "\treturn rmse, predicted, b0, b1\n",
        "\n",
        "# Calculate the mean value of a list of numbers\n",
        "def mean(values):\n",
        "\treturn sum(values) / float(len(values))\n",
        "\n",
        "# Calculate covariance between x and y\n",
        "def covariance(x, mean_x, y, mean_y):\n",
        "\tcovar = 0.0\n",
        "\tfor i in range(len(x)):\n",
        "\t\tcovar += (x[i] - mean_x) * (y[i] - mean_y)\n",
        "\treturn covar\n",
        "\n",
        "# Calculate the variance of a list of numbers\n",
        "def variance(values, mean):\n",
        "\treturn sum([(x-mean)**2 for x in values])\n",
        "\n",
        "# Calculate coefficients\n",
        "def coefficients(dataset):\n",
        "\tx = [row[0] for row in dataset]\n",
        "\ty = [row[1] for row in dataset]\n",
        "\tx_mean, y_mean = mean(x), mean(y)\n",
        "\tb1 = covariance(x, x_mean, y, y_mean) / variance(x, x_mean)\n",
        "\tb0 = y_mean - b1 * x_mean\n",
        "\treturn [b0, b1]\n",
        "\n",
        "# Simple linear regression algorithm\n",
        "def simple_linear_regression(train, test):\n",
        "\tpredictions = list()\n",
        "\tb0, b1 = coefficients(train)\n",
        "\tfor row in test:\n",
        "\t\tyhat = b0 + b1 * row[0]\n",
        "\t\tpredictions.append(yhat)\n",
        "\treturn predictions, b0,b1"
      ],
      "execution_count": null,
      "outputs": []
    },
    {
      "cell_type": "code",
      "metadata": {
        "id": "bcZ1_xPCPZY2"
      },
      "source": [
        "filename='validfilelistaeronet_aqua2016land.txt'\n",
        "splitlist=extract_splitlist(filename)#read the file and split the different columns\n",
        "filelist=[sp[0]for sp in splitlist]\n",
        "temps=[np.float(sp[1])/(24*3600)+dates.datestr2num('1993-01-01 00:00:00') for sp in splitlist]\n",
        "filename='/content/AERONET_V3/20150101_20181231_Koforidua_ANUC.tot_lev20'\n",
        "tot=read_aeronet(filename)\n",
        "tt=pd.read_csv(filename,skiprows=6, na_values=['N/A'])"
      ],
      "execution_count": null,
      "outputs": []
    },
    {
      "cell_type": "code",
      "metadata": {
        "id": "fWaSEaIbSa24"
      },
      "source": [
        "varname='AOD_340nm-AOD'\n",
        "(validsat,validtime)=aeronetsatcor(splitlist,tt,varname)"
      ],
      "execution_count": null,
      "outputs": []
    },
    {
      "cell_type": "code",
      "metadata": {
        "id": "soyRKDFTBSqA"
      },
      "source": [
        "temps=[np.float(sp[1])/(24*3600)+dates.datestr2num('1993-01-01 00:00:00') for sp in splitlist]"
      ],
      "execution_count": null,
      "outputs": []
    },
    {
      "cell_type": "code",
      "metadata": {
        "id": "9pHCdqe6BV6d"
      },
      "source": [
        "timenum=[]\n",
        "for i in range(0,len(tt)):\n",
        "        t=np.datetime64(tot.index[i]).astype(datetime)\n",
        "        a=np.datetime64(tot.index[i]).astype(datetime)\n",
        "        timenum.append(dates.datestr2num(('%i-%i-%i %i:%i:%i' %(a.year,a.month,a.day,a.hour,a.minute,a.second))))\n",
        "timenum=np.array(timenum)"
      ],
      "execution_count": null,
      "outputs": []
    },
    {
      "cell_type": "code",
      "metadata": {
        "id": "stl4cWFiFiX9"
      },
      "source": [
        "varaero=[]\n",
        "validtime=[]\n",
        "for i,t in enumerate(temps):\n",
        "    a=np.argmin(np.abs(t-timenum))\n",
        "    if timenum[a]>t:\n",
        "        b=a-1\n",
        "    else:\n",
        "        b=a+1\n",
        "\n",
        "    if np.abs(timenum[a]-timenum[b])<30./(24*60):\n",
        "        wa=np.abs(tt[varname][a]-tt[varname][b])-np.abs(tt[varname][a]-t)/np.abs(tt[varname][a]-tt[varname][b])\n",
        "        wb=np.abs(tt[varname][a]-tt[varname][b])-np.abs(tt[varname][b]-t)/np.abs(tt[varname][a]-tt[varname][b])\n",
        "        v=wa*tt[varname][a]+wb*tt[varname][b]\n",
        "        varaero.append(a)\n",
        "        validtime.append(i)\n",
        "varaero=np.array(varaero)"
      ],
      "execution_count": null,
      "outputs": []
    },
    {
      "cell_type": "code",
      "metadata": {
        "id": "OzzHUzojTJEe"
      },
      "source": [
        "temps=[np.float(sp[1])/(24*3600)+dates.datestr2num('1993-01-01 00:00:00') for sp in splitlist]\n",
        "timenum=[]\n",
        "for i in range(0,len(tt)):\n",
        "        t=np.datetime64(tot.index[i]).astype(datetime)\n",
        "        a=np.datetime64(tot.index[i]).astype(datetime)\n",
        "        timenum.append(dates.datestr2num(('%i-%i-%i %i:%i:%i' %(a.year,a.month,a.day,a.hour,a.minute,a.second))))\n",
        "timenum=np.array(timenum)\n",
        "varaero=[]\n",
        "validtime=[]\n",
        "for i,t in enumerate(temps):\n",
        "    a=np.argmin(np.abs(t-timenum))\n",
        "    if timenum[a]>t:\n",
        "        b=a-1\n",
        "    else:\n",
        "        b=a+1\n",
        "\n",
        "    if np.abs(timenum[a]-timenum[b])<30./(24*60):\n",
        "\n",
        "        wa=np.abs(tt[varname][a]-tt[varname][b])-np.abs(tt[varname][a]-t)/np.abs(tt[varname][a]-tt[varname][b])\n",
        "        wb=np.abs(tt[varname][a]-tt[varname][b])-np.abs(tt[varname][b]-t)/np.abs(tt[varname][a]-tt[varname][b])\n",
        "        v=wa*tt[varname][a]+wb*tt[varname][b]\n",
        "        varaero.append(a)\n",
        "        validtime.append(i)\n",
        "varaero=np.array(varaero)"
      ],
      "execution_count": null,
      "outputs": []
    },
    {
      "cell_type": "code",
      "metadata": {
        "id": "ET3DtoksP-3-"
      },
      "source": [
        "aod=np.column_stack((tt['AOD_340nm-AOD'],tt['AOD_380nm-AOD'],tt['AOD_412nm-AOD'],tt['AOD_440nm-AOD'],tt['AOD_443nm-AOD'],tt['AOD_490nm-AOD'],tt['AOD_500nm-AOD'],tt['AOD_531nm-AOD'],tt['AOD_532nm-AOD'],tt['AOD_551nm-AOD'],tt['AOD_555nm-AOD'],tt['AOD_667nm-AOD'],tt['AOD_675nm-AOD'],tt['AOD_870nm-AOD'],tt['AOD_1020nm-AOD'],tt['AOD_1640nm-AOD']))\n",
        "lnaod=np.log(aod)\n",
        "wavelengths=np.sort(np.array((1640,1020,870,675,667,555,551,532,531,500,490,443,440,412,380,340)))*1e-3\n",
        "wavelengthl=np.array((440,675))*1e-3  #(340,440))*1e-3\n",
        "aodl=np.column_stack((tt['AOD_440nm-AOD'],tt['AOD_675nm-AOD']))\n",
        "lnaodl=np.log(aodl)\n",
        "lnwave=np.log(wavelengths)\n",
        "lnwavel=np.log(wavelengthl)\n",
        "aod550=np.zeros(len(validsat))*np.nan\n",
        "aod550l=np.zeros(len(validsat))*np.nan\n",
        "\n",
        "for i,v in enumerate(validsat):\n",
        "    lnAOD=lnaod[v]\n",
        "\n",
        "# idx = np.isfinite(x) & np.isfinite(y)\n",
        "# ab = np.polyfit(x[idx], y[idx], 1)\n",
        "    idx = np.isfinite(lnwave) & np.isfinite(lnAOD)\n",
        "    z = np.polyfit(lnwave[idx], lnAOD[idx], 2)\n",
        "    a0=z[0]\n",
        "    a1=z[1]\n",
        "    a2=z[2]\n",
        "    aod550[i]=a0+a1*np.log(550e-3)+a2*np.log(550e-3)**2\n",
        "    lnAODL=lnaodl[v]\n",
        "    idxl = np.isfinite(lnwavel) & np.isfinite(lnAODL)\n",
        "    zl = np.polyfit(lnwavel[idxl], lnAODL[idxl], 1)\n",
        "    a0l=zl[0]\n",
        "    a1l=zl[1]\n",
        "    aod550l[i]=a0l+a1l*np.log(550e-3)"
      ],
      "execution_count": null,
      "outputs": []
    },
    {
      "cell_type": "code",
      "metadata": {
        "id": "hc46hLzuSj4l"
      },
      "source": [
        "# get the codl\n",
        "aerolon=-0.30206\n",
        "aerolat=6.10941\n",
        "codlc=[]\n",
        "codln=[]\n",
        "codls=[]\n",
        "codlw=[]\n",
        "codle=[]\n",
        "\n",
        "for v in validtime:\n",
        "    (codl,longitude,latitude,temps)=selectvar(filelist[v])\n",
        "    (codlna,lat,lon)=regrid(aerolon-0.1,aerolon+0.1,aerolat-0.1,aerolat+0.1,0.03,codl,latitude,longitude)\n",
        "    (codlca,codlna,codlsa,codlwa,codlea)=findsatNSEW(codlna,lat,lon,aerolat,aerolon)\n",
        "    codlc.append(codlca)\n",
        "    codln.append(codlna)\n",
        "    codls.append(codlsa)\n",
        "    codlw.append(codlwa)\n",
        "    codle.append(codlea)\n",
        "\n",
        "\n",
        "codlc=np.array(codlc)\n",
        "n=np.isnan(codlc)\n",
        "c025=100.*(len(np.where(codlc[~n]<0.25)[0]))/len(codlc[~n])\n",
        "c05=100.*(len(np.where(codlc[~n]<0.5)[0])-len(np.where(codlc[~n]<0.25)[0]))/len(codlc[~n])\n",
        "c1=100.*(len(np.where(codlc[~n]<1)[0])-len(np.where(codlc[~n]<0.5)[0]))/len(codlc[~n])\n",
        "c5=100.*(len(np.where(codlc[~n]<5)[0])-len(np.where(codlc[~n]<1)[0]))/len(codlc[~n])\n",
        "\n",
        "codln=np.array(codln)\n",
        "n=np.isnan(codln)\n",
        "n025=100.*(len(np.where(codln[~n]<0.25)[0]))/len(codln[~n])\n",
        "n05=100.*(len(np.where(codln[~n]<0.5)[0])-len(np.where(codln[~n]<0.25)[0]))/len(codln[~n])\n",
        "n1=100.*(len(np.where(codln[~n]<1)[0])-len(np.where(codln[~n]<0.5)[0]))/len(codln[~n])\n",
        "n5=100.*(len(np.where(codln[~n]<5)[0])-len(np.where(codln[~n]<1)[0]))/len(codln[~n])\n",
        "\n",
        "codls=np.array(codls)\n",
        "n=np.isnan(codls)\n",
        "s025=100.*(len(np.where(codls[~n]<0.25)[0]))/len(codls[~n])\n",
        "s05=100.*(len(np.where(codls[~n]<0.5)[0])-len(np.where(codls[~n]<0.25)[0]))/len(codls[~n])\n",
        "s1=100.*(len(np.where(codls[~n]<1)[0])-len(np.where(codls[~n]<0.5)[0]))/len(codls[~n])\n",
        "s5=100.*(len(np.where(codls[~n]<5)[0])-len(np.where(codls[~n]<1)[0]))/len(codls[~n])\n",
        "\n",
        "codlw=np.array(codlw)\n",
        "n=np.isnan(codlw)\n",
        "w025=100.*(len(np.where(codlw[~n]<0.25)[0]))/len(codlw[~n])\n",
        "w05=100.*(len(np.where(codlw[~n]<0.5)[0])-len(np.where(codlw[~n]<0.25)[0]))/len(codlw[~n])\n",
        "w1=100.*(len(np.where(codlw[~n]<1)[0])-len(np.where(codlw[~n]<0.5)[0]))/len(codlw[~n])\n",
        "w5=100.*(len(np.where(codlw[~n]<5)[0])-len(np.where(codlw[~n]<1)[0]))/len(codlw[~n])\n",
        "\n",
        "codle=np.array(codle)\n",
        "n=np.isnan(codle)\n",
        "e025=100.*(len(np.where(codle[~n]<0.25)[0]))/len(codle[~n])\n",
        "e05=100.*(len(np.where(codle[~n]<0.5)[0])-len(np.where(codle[~n]<0.25)[0]))/len(codle[~n])\n",
        "e1=100.*(len(np.where(codle[~n]<1)[0])-len(np.where(codle[~n]<0.5)[0]))/len(codle[~n])\n",
        "e5=100.*(len(np.where(codle[~n]<5)[0])-len(np.where(codle[~n]<1)[0]))/len(codle[~n])\n",
        "\n"
      ],
      "execution_count": null,
      "outputs": []
    },
    {
      "cell_type": "code",
      "metadata": {
        "id": "EtoBdvCfhh9R"
      },
      "source": [
        "fig=plt.figure(figsize=(40, 30))\n",
        "ax=fig.gca()\n",
        "n = 5\n",
        "aod25= (c025,n025,s025,w025,e025)\n",
        "aod05 = (c05,n05,s05,w05,e05)\n",
        "aod25aod05=[x+aod05[i] for i,x in enumerate(aod25)]\n",
        "aod1= (c1,n1,s1,w1,e1)\n",
        "aod25aod05aod01=[x+aod1[i] for i,x in enumerate(aod25aod05)]\n",
        "aod5= (c5,n5,s5,w5,e5)\n",
        "\n",
        "ind = np.arange(n)    # the x locations for the groups\n",
        "width = 0.35       # the width of the bars: can also be len(x) sequence\n",
        "\n",
        "p1 = ax.bar(ind, aod25, width,bottom=0)\n",
        "p2 = ax.bar(ind, aod05, width, bottom=aod25)\n",
        "p3=ax.bar(ind, aod1, width, bottom=aod25aod05)\n",
        "p4=ax.bar(ind, aod5, width, bottom=aod25aod05aod01)\n",
        "\n",
        "ax.set_ylabel('frequency (%)', fontsize=80)\n",
        "#plt.title('scores by group and gender')\n",
        "\n",
        "plt.xticks(ind, ('c', 'n', 's', 'w', 'e'), fontsize=60)\n",
        "plt.yticks(fontsize=60)\n",
        "box = ax.get_position()\n",
        "ax.set_position([box.x0, box.y0, box.width, box.height*0.8])\n",
        "#ax.set_#plt.yticks(np.arange(0, 81, 10))\n",
        "ax.legend((p1[0], p2[0], p3[0], p4[0]), ('aod<0.25', '0.25<aod<0.50', '0.50<aod<1.00', '1.00<aod<5.00'),\n",
        "          loc='center right', bbox_to_anchor=(0.5, 1.25),\n",
        "          fancybox='true',  ncol=4, fontsize=80)# loc='upper center', fontsize=45,bbox_to_anchor=(1, -0.5))\n",
        "\n",
        "plt.show()"
      ],
      "execution_count": null,
      "outputs": []
    },
    {
      "cell_type": "code",
      "metadata": {
        "id": "kvM8p-63hm35"
      },
      "source": [
        "odm=np.nanmean((codlc,codln,codls,codlw,codle),axis=0)\n",
        "odstd=np.nanstd((codlc,codln,codls,codlw,codle),axis=0)\n",
        "\n",
        "idi=np.argsort(aod550)\n",
        "aod550=aod550[idi]\n",
        "odm550=odm[idi]\n",
        "\n",
        "dataset=np.column_stack((odm550,aod550))\n",
        "rmse550,predicted550,b1550,b0550 = evaluate_algorithm(dataset, simple_linear_regression)\n",
        "\n",
        "idi=np.argsort(aod550l)\n",
        "aod550l=aod550l[idi]\n",
        "odm550l=odm[idi]\n",
        "\n",
        "dataset=np.column_stack((odm550l,aod550l))\n",
        "rmse550l,predicted550l,b1550l,b0550l = evaluate_algorithm(dataset, simple_linear_regression)\n",
        "\n",
        "\n",
        "\n",
        "#idi=np.argsort(aod340)\n",
        "#aod340=aod340[idi]\n",
        "#odm340=odm[idi]\n",
        "#dataset=np.column_stack((odm340,aod340))\n",
        "#rmse340,predicted340,b1340,b0340 = evaluate_algorithm(dataset, simple_linear_regression)\n",
        "\n",
        "#idi=np.argsort(aod440)\n",
        "#aod440=aod440[idi]\n",
        "#odm440=odm[idi]\n",
        "#dataset=np.column_stack((odm440,aod440))\n",
        "#rmse440,predicted440,b1440,b0440 = evaluate_algorithm(dataset, simple_linear_regression)\n",
        "\n",
        "\n",
        "#idi=np.argsort(aod675)\n",
        "#aod675=aod675[idi]\n",
        "#odm675=odm[idi]\n",
        "#dataset=np.column_stack((odm675,aod675))\n",
        "#rmse675,predicted675,b1675,b0675 = evaluate_algorithm(dataset, simple_linear_regression)\n",
        "\n",
        "#idi=np.argsort(aod870)\n",
        "#aod870=aod870[idi]\n",
        "#odm870=odm[idi]\n",
        "#dataset=np.column_stack((odm870,aod870))\n",
        "#rmse870,predicted870,b1870,b0870 = evaluate_algorithm(dataset, simple_linear_regression)\n"
      ],
      "execution_count": null,
      "outputs": []
    },
    {
      "cell_type": "code",
      "metadata": {
        "id": "X3UpeBJFN8Pe"
      },
      "source": [
        "oneone=np.array([0,np.max(aod550)]) #variable for 1:1 plot"
      ],
      "execution_count": null,
      "outputs": []
    },
    {
      "cell_type": "code",
      "metadata": {
        "id": "E3u9oG-5iHNm"
      },
      "source": [
        "fig=plt.figure(figsize=(40,30))\n",
        "ax=fig.add_subplot(111)\n",
        "ax.scatter(aod550,odm550)\n",
        "ax.errorbar(aod550,odm550,yerr=odstd,fmt='o', color='r', markersize='30', capthick=20 )\n",
        "ax.plot(predicted550,odm550,'k', linewidth='2')\n",
        "ax.plot(oneone,oneone,'b', linewidth='5') #1/1 curve\n",
        "#ax.scatter(aod550l,odm)\n",
        "#ax.errorbar(aod550l,odm,yerr=odstd,fmt='ro',capthick=2)\n",
        "#ax.plot(predicted550l,odm550l,'r')\n",
        "ax.text(0.55, 1.90, (r'$m_\\tau= %.2fa_\\tau+%.2f$')%(b0550,b1550),size=70)\n",
        "ax.text(0.55, 1.80, ('$rmse=%.2f$')%(rmse550),size=70)\n",
        "ax.text(0.55, 1.70, ('$r^2=%.2f$')%(np.corrcoef(predicted550,aod550)[0][1]),size=70)\n",
        "ax.text(0.55, 1.60, ('$n=164$'), size=70)\n",
        "ax.text(0.05, 1.98, ('$(b)$'), size=80)\n",
        "ax.tick_params(axis='x', labelsize=70)\n",
        "ax.tick_params(axis='y', labelsize=70)      #r'$\\alpha_i > \\beta_i$'\n",
        "#ax.set_title('550 $\\mu$m',fontsize=80)\n",
        "ax.set_xlabel(r'$aeronet aod (a_\\tau)$',fontsize=70)\n",
        "ax.set_ylabel(r'$modis aqua aod (m_\\tau$)',fontsize=70)\n",
        "ax.set_xlim([0.0,0.8])\n",
        "ax.set_ylim([0.0,2.2])\n",
        "fig.savefig('modis_tera_aeronet_aod_relation_at_550_microns.pdf',bbox='tight',transparent='false', format='pdf', dpi=300)"
      ],
      "execution_count": null,
      "outputs": []
    },
    {
      "cell_type": "markdown",
      "metadata": {
        "id": "ZUgtOOHE2hpJ"
      },
      "source": [
        "# https://github.com/NadimKawwa/Statistics/blob/master/linear_regression.ipynb"
      ]
    },
    {
      "cell_type": "code",
      "metadata": {
        "id": "dZbJaZ0N2sjA"
      },
      "source": [
        "def getPairStats(x, y):\n",
        "\n",
        "    #calculate means\n",
        "    x_bar = np.mean(x)\n",
        "    y_bar = np.mean(y)\n",
        "    #get number of entries\n",
        "    n = len(x)\n",
        "\n",
        "    #calculate sums\n",
        "    x_sum = np.sum(x)\n",
        "    x_sum_square = np.sum([xi**2 for xi in x])\n",
        "    y_sum = np.sum(y)\n",
        "    y_sum_square = np.sum([yi**2 for yi in y])\n",
        "    xy_sum = np.sum([xi*yi for xi, yi in zip(x, y)])\n",
        "\n",
        "    #calculcate remainder of equations\n",
        "    s_xx  = x_sum_square - (1/n)*(x_sum**2)\n",
        "    s_yy = y_sum_square - (1/n)*(y_sum**2)\n",
        "    s_xy = xy_sum - (1/n)*x_sum*y_sum\n",
        "\n",
        "    return s_xx, s_yy, s_xy\n",
        "\n",
        "\n",
        "def pair_regression(x, y):\n",
        "    \"\"\"\n",
        "    perform simple regression between predictor variable x and target variable y\n",
        "    \"\"\"\n",
        "\n",
        "    #calculate means\n",
        "    x_bar = np.mean(x)\n",
        "    y_bar = np.mean(y)\n",
        "    #get number of entries\n",
        "    n = len(x)\n",
        "\n",
        "    #get stats\n",
        "    s_xx, s_yy, s_xy = getPairStats(x, y)\n",
        "\n",
        "    #calculcate coefficients\n",
        "    beta_hat = s_xy / s_xx\n",
        "    alpa_hat = y_bar - beta_hat * x_bar\n",
        "\n",
        "    return alpa_hat, beta_hat\n"
      ],
      "execution_count": null,
      "outputs": []
    },
    {
      "cell_type": "code",
      "metadata": {
        "id": "lZLcMxlzHA_c"
      },
      "source": [
        "def simple_regression_conf(x, y, alpha=0.05):\n",
        "\n",
        "    n = len(x)\n",
        "    #calculate stats\n",
        "    s_xx, s_yy, s_xy = getPairStats(x, y)\n",
        "\n",
        "    #get regression coefficients\n",
        "    alpha_hat, beta_hat = pair_regression(x, y)\n",
        "\n",
        "    #maximim likelihood estimator\n",
        "    sigma_hat = np.sqrt((1/n)*(s_yy-beta_hat*s_xy))\n",
        "\n",
        "    #calculcate t statistic\n",
        "    t_limit = stats.t.ppf(1-alpha/2, n-2)\n",
        "    #interval term\n",
        "    interval_val = t_limit*sigma_hat*np.sqrt(n/((n-2)*s_xx))\n",
        "\n",
        "    #calculcate intervals\n",
        "    beta_upper = beta_hat + interval_val\n",
        "    beta_lower = beta_hat - interval_val\n",
        "\n",
        "    return beta_lower, beta_upper"
      ],
      "execution_count": null,
      "outputs": []
    },
    {
      "cell_type": "markdown",
      "metadata": {
        "id": "fB8MApDoA5Ve"
      },
      "source": [
        "**I define X as AOD550 and Y as odm 550 to run the scipt**"
      ]
    },
    {
      "cell_type": "code",
      "metadata": {
        "id": "HfxJgOtz3HB_"
      },
      "source": [
        "X=aod550\n",
        "Y=odm550\n",
        "alpha_hat, beta_hat = pair_regression(x=X, y=Y)\n",
        "print(\"The vertical axis intercept alpha hat is equal to: {}\".format(alpha_hat))\n",
        "print(\"The slope beta hat is equal to: {}\".format(beta_hat))\n",
        "\n",
        "y_pred = [alpha_hat + beta_hat*xi for xi in X]\n",
        "y_pred"
      ],
      "execution_count": null,
      "outputs": []
    },
    {
      "cell_type": "code",
      "metadata": {
        "id": "EFPEWrkn3prL"
      },
      "source": [
        "plt.scatter(x=X, y=Y, label = 'Data')\n",
        "plt.plot(X, y_pred, label = 'OLS Fit', color='orange', marker='x')\n",
        "\n",
        "#plot OLS vertical deviations\n",
        "for xi, yi, yp in zip(X, Y, y_pred):\n",
        "    plt.plot([xi, xi], [yi, yp], color='purple')\n",
        "\n",
        "\n",
        "plt.xlabel(\"Hours Studied\")\n",
        "plt.ylabel(\"Test Score\")\n",
        "plt.savefig(\"student_hours_ols.png\")\n",
        "#lt.xticks(np.arange(0, 30, 5))\n",
        "#plt.yticks(np.arange(0, 110, 10))\n",
        "plt.legend()\n",
        "plt.show()"
      ],
      "execution_count": null,
      "outputs": []
    },
    {
      "cell_type": "markdown",
      "metadata": {
        "id": "YZCgrZCw4QRi"
      },
      "source": [
        "##Hypothesis Testing\n",
        "H0: β=3\n",
        "H1: β>3\n",
        "Set the significance level α=0.01"
      ]
    },
    {
      "cell_type": "code",
      "metadata": {
        "id": "GXxuzLMS4LJC"
      },
      "source": [
        "from scipy import stats\n",
        "print (stats.t.ppf(1-0.01, 8))"
      ],
      "execution_count": null,
      "outputs": []
    },
    {
      "cell_type": "code",
      "metadata": {
        "id": "qnsMlQkv4THA"
      },
      "source": [
        "def simple_regression_test(x, y, beta_ho, sig=0.01):\n",
        "    n = len(x)\n",
        "    #calculate stats\n",
        "    s_xx, s_yy, s_xy = getPairStats(x, y)\n",
        "\n",
        "    #get regression coefficients\n",
        "    alpha_hat, beta_hat = pair_regression(x, y)\n",
        "\n",
        "    #maximim likelihood estimator\n",
        "    sigma_hat = np.sqrt((1/n)*(s_yy-beta_hat*s_xy))\n",
        "\n",
        "    #calcucalte t statistic\n",
        "    t_test_value = ((beta_hat - beta_ho)/(sigma_hat)) * np.sqrt((n-2)*s_xx/10)\n",
        "\n",
        "    #calculcate t statistic\n",
        "    t_limit = stats.t.ppf(1-sig, n-2)\n",
        "\n",
        "    print(\"We will compare the t statistic of {:.4f} against the calculated value of {:.4f}\".format(t_limit, t_test_value))\n",
        "\n",
        "    if t_test_value < t_limit:\n",
        "        print(\"Fail to reject H0\")\n",
        "        return False\n",
        "    else:\n",
        "        print(\"Reject H0\")\n",
        "        return True\n",
        "\n",
        "simple_regression_test(x=X, y=Y, beta_ho=3, sig=0.01)"
      ],
      "execution_count": null,
      "outputs": []
    },
    {
      "cell_type": "markdown",
      "metadata": {
        "id": "l4cGzHPo4ZWo"
      },
      "source": [
        "##Confidence Interval¶"
      ]
    },
    {
      "cell_type": "code",
      "metadata": {
        "id": "gq09HJPN4arX"
      },
      "source": [
        "def simple_regression_conf(x, y, alpha=0.05):\n",
        "\n",
        "    n = len(x)\n",
        "    #calculate stats\n",
        "    s_xx, s_yy, s_xy = getPairStats(x, y)\n",
        "\n",
        "    #get regression coefficients\n",
        "    alpha_hat, beta_hat = pair_regression(x, y)\n",
        "\n",
        "    #maximim likelihood estimator\n",
        "    sigma_hat = np.sqrt((1/n)*(s_yy-beta_hat*s_xy))\n",
        "\n",
        "    #calculcate t statistic\n",
        "    t_limit = stats.t.ppf(1-alpha/2, n-2)\n",
        "    #interval term\n",
        "    interval_val = t_limit*sigma_hat*np.sqrt(n/((n-2)*s_xx))\n",
        "\n",
        "    #calculcate intervals\n",
        "    beta_upper = beta_hat + interval_val\n",
        "    beta_lower = beta_hat - interval_val\n",
        "\n",
        "    return beta_lower, beta_upper\n",
        "\n",
        "beta_lower, beta_upper = simple_regression_conf(x=X, y=Y, alpha=0.05)\n",
        "print(\"beta_lower: {:.4f}\".format(beta_lower))\n",
        "print(\"beta_upper: {:.4f}\".format(beta_upper))"
      ],
      "execution_count": null,
      "outputs": []
    },
    {
      "cell_type": "code",
      "metadata": {
        "id": "2HnATL2u4kSg"
      },
      "source": [
        "y_upper = [alpha_hat + beta_upper*xi for xi in X]\n",
        "y_lower = [alpha_hat + beta_lower*xi for xi in X]\n",
        "\n",
        "plt.scatter(x=X, y=Y, label = 'Data')\n",
        "plt.plot(X, y_pred, label = 'OLS Fit', color='orange', marker='x')\n",
        "plt.plot(X, y_upper, label = 'Upper prediction', color='red')\n",
        "plt.plot(X, y_lower, label = 'Lower Prediction', color='green')\n",
        "plt.legend()\n",
        "\n",
        "plt.savefig(\"95p_conf_fit.png\")\n",
        "\n",
        "plt.show()"
      ],
      "execution_count": null,
      "outputs": []
    },
    {
      "cell_type": "markdown",
      "metadata": {
        "id": "Re_Xz5-D42LQ"
      },
      "source": [
        "##Normal Correlation Analysis"
      ]
    },
    {
      "cell_type": "code",
      "metadata": {
        "id": "vuT0wfBZ5i2b"
      },
      "source": [
        "def linear_reg_corr(x, y):\n",
        "    #calculate stats\n",
        "    s_xx, s_yy, s_xy = getPairStats(x, y)\n",
        "\n",
        "    r = s_xy / np.sqrt(s_xx*s_yy)\n",
        "\n",
        "    return r\n",
        "linear_reg_corr(x=X, y=Y)"
      ],
      "execution_count": null,
      "outputs": []
    },
    {
      "cell_type": "markdown",
      "metadata": {
        "id": "kd42aGr1YeK9"
      },
      "source": [
        "# homoscedasticity"
      ]
    },
    {
      "cell_type": "markdown",
      "metadata": {
        "id": "fW8DWxX0JRGd"
      },
      "source": [
        "\n",
        "https://www.statisticshowto.com/homoscedasticity/\n",
        "The assumption of equal variances (i.e. assumption of homoscedasticity) assumes that different samples have the same variance, even if they came from different populations\n",
        "The assumption of equal variances is also used in linear regression, which assumes that data is homoscedastic. In simple terms, if your data is widely spread about (like to cone shape in the heteroscedastic image below), regression isn’t going to work that well. ![hetero.png](data:image/png;base64,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)\n",
        "\n"
      ]
    },
    {
      "cell_type": "markdown",
      "metadata": {
        "id": "YK6h5Vs3KFif"
      },
      "source": [
        "Testing for Homogeneity of Variance\n",
        "Tests that you can run to check your data meets this assumption include:\n",
        "\n",
        "Bartlett’s Test\n",
        "Box’s M Test\n",
        "Brown-Forsythe Test\n",
        "Hartley’s Fmax test\n",
        "Levene’s Test"
      ]
    },
    {
      "cell_type": "markdown",
      "metadata": {
        "id": "zqYJBLj_KV39"
      },
      "source": [
        "https://docs.scipy.org/doc/scipy-0.14.0/reference/generated/scipy.stats.levene.html\n",
        "Scipy seems to contain these test"
      ]
    },
    {
      "cell_type": "markdown",
      "metadata": {
        "id": "-O1ioMOGXI86"
      },
      "source": [
        "Homoskedasticity is one assumption of linear regression modeling. If the variance of the errors around the regression line varies much, the regression model may be poorly defined. The opposite of homoskedasticity is heteroskedasticity just as the opposite of \"homogenous\" is \"heterogeneous.\" Heteroskedasticity (also spelled “heteroscedasticity”) refers to a condition in which the variance of the error term in a regression equation is not constant.\n",
        "https://www.investopedia.com/terms/h/homoskedastic.asp"
      ]
    },
    {
      "cell_type": "markdown",
      "metadata": {
        "id": "i0OKEH6MX9Dd"
      },
      "source": [
        "How to define the Error term when you do a linear regression:\n",
        "Yi=aXi+b+Ei\n",
        "Ei represents the error term and can be calculated as\n",
        "Ei=Yi-(aXi+b) in other words\n",
        "Ei=Yi-predicted(i)"
      ]
    },
    {
      "cell_type": "code",
      "metadata": {
        "id": "bWlUU6jZYxrP"
      },
      "source": [
        "#Error (E)\n",
        "E=aod550-predicted550\n",
        "#Plot the error term against the value to predict aod550\n",
        "fig=plt.figure(figsize=(40,30))\n",
        "ax=fig.add_subplot(111)\n",
        "ax.scatter(E,aod550)\n",
        "ax.tick_params(axis='x', labelsize=70)\n",
        "ax.tick_params(axis='y', labelsize=70)\n",
        "ax.set_xlabel(r'$Error term$',fontsize=70)\n",
        "ax.set_ylabel(r'aod550',fontsize=70)"
      ],
      "execution_count": null,
      "outputs": []
    },
    {
      "cell_type": "code",
      "metadata": {
        "id": "E3sCjcZdKja_"
      },
      "source": [
        "import scipy.stats as ss\n",
        "# To sample my dataset I select area regarding to aod550 values\n",
        "sample1=E[np.where(aod550<0.2)[0]] #0<aod550<0.2\n",
        "sample2=E[np.where((aod550>0.2)&(aod550<0.4))[0]]#0.2<aod550<0.4\n",
        "sample3=E[np.where((aod550>0.4)&(aod550<0.6))[0]]#0.4<aod550<0.6\n",
        "sample4=E[np.where((aod550>0.6)&(aod550<0.8))[0]]#0.6<aod550<0.8\n",
        "\n",
        "Levene=ss.levene(sample1,sample2,sample3,sample4)"
      ],
      "execution_count": null,
      "outputs": []
    },
    {
      "cell_type": "code",
      "metadata": {
        "id": "FsLhMbufLiRG"
      },
      "source": [
        "[np.var(s) for s in [sample1,sample2,sample3,sample4]]"
      ],
      "execution_count": null,
      "outputs": []
    },
    {
      "cell_type": "markdown",
      "metadata": {
        "id": "W0FHmSKKhfMd"
      },
      "source": [
        "Sample 6 has a small variance compared to the other but also has only 2 values in this sample"
      ]
    },
    {
      "cell_type": "markdown",
      "metadata": {
        "id": "9tn0y2MmjV8u"
      },
      "source": [
        "Apparently a pvalue over 0.05 means that the homoscedasticity hypothesis is verified\n"
      ]
    },
    {
      "cell_type": "code",
      "metadata": {
        "id": "r5COQJuWg5_Z"
      },
      "source": [
        "Levene"
      ],
      "execution_count": null,
      "outputs": []
    },
    {
      "cell_type": "markdown",
      "metadata": {
        "id": "WHymlCDYQ0tE"
      },
      "source": [
        "# Copy the output back to the drive"
      ]
    },
    {
      "cell_type": "code",
      "metadata": {
        "id": "XJlp6lKaQt9U"
      },
      "source": [
        "!mkdir /content/gdrive/'My Drive'/AERONET_V3/OUTPUTS"
      ],
      "execution_count": null,
      "outputs": []
    },
    {
      "cell_type": "code",
      "metadata": {
        "id": "Pd0eiQpaQ_lG"
      },
      "source": [
        "!cp *.pdf /content/gdrive/'My Drive'/AERONET_V3/OUTPUTS\n",
        "!cp *.txt /content/gdrive/'My Drive'/AERONET_V3/OUTPUTS\n",
        "!cp *.nc /content/gdrive/'My Drive'/AERONET_V3/OUTPUTS"
      ],
      "execution_count": null,
      "outputs": []
    }
  ]
}